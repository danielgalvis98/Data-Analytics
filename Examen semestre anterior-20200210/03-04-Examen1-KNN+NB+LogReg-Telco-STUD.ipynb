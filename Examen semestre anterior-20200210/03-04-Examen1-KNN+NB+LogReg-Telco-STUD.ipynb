{
 "cells": [
  {
   "cell_type": "markdown",
   "metadata": {},
   "source": [
    "# Analítica de datos\n",
    "# Examen parcial 1\n",
    "# 2019-02"
   ]
  },
  {
   "cell_type": "markdown",
   "metadata": {},
   "source": [
    "# <font color='red'> NOMBRE APELLIDO, código </font>"
   ]
  },
  {
   "cell_type": "markdown",
   "metadata": {},
   "source": [
    "# <font color='red'>ENTREGA PRIMERA PARTE</font> - <font color='blue'> EN CLASE </font>"
   ]
  },
  {
   "cell_type": "markdown",
   "metadata": {},
   "source": [
    "Usted es el encargado de analítica de una empresa de telefonía celular y tiene que proporcionar soluciones para hacer frente a las problemáticas de un sector que ha llegado a saturación del mercado. Tanto su empresa como sus competidores directos tienen que disputarse por una base de clientes limitada, de tal forma que usted tiene que responder a un objetivo estratégico definido por la dirección así:  \n",
    "\n",
    "    \"Mantener y fidelizar a nuestros clientes por medio de un servicio de calidad que se adapte a sus necesidades particulares.\"\n",
    "    \n",
    "Su compañía dispone de una base de datos histórica de personas que hace un año eran clientes propios. Algunos de esos clientes siguen siéndolo hoy en día, otros ya no lo son. La idea es podeer identificar los clientes que son propensos a dejar la compañía, para poder pensar en programas de fidelización preventivos."
   ]
  },
  {
   "cell_type": "markdown",
   "metadata": {},
   "source": [
    "Los campos del dataset son los siguientes:\n",
    "1.  ID: Código identificador de los clientes de la compañía de telefonía móvil\n",
    "1.\tESTADO: Describe si el usuario sigue con la compañía (VINCULADO) o no (RETIRADO)\n",
    "1.\tINGRESOS: Promedio de ingresos del cliente en pesos\n",
    "1.\tCASA: Precio de la casa en la que vive el cliente en pesos\n",
    "1.\tPRECIO_DISPOSITIVO: Precio del celular del cliente en pesos\n",
    "1.  GÉNERO: \"Hombre\" o \"Mujer\"\n",
    "1.\tMESES: Antigüedad del usuario en meses\n",
    "1.\tDURACION: Promedio de duración de las llamadas hechas por el cliente en minutos\n",
    "1.\tSOBRECARGO: Promedio de minutos que se sobrepasa el usuario en un mes\n",
    "1.\tSALDO_RESTANTE: Promedio de minutos de su plan que le quedan al usuario sin utilizar cada mes\n",
    "1.\tSATISFACCION: nivel de satisfacción del usuario de 0 a 10 (muy satisfecho), obtenido a partir de una encuesta."
   ]
  },
  {
   "cell_type": "markdown",
   "metadata": {},
   "source": [
    "La idea es poder predecir el ESTADO a partir de las otras variables, utilizando modelos de aprendizaje supervisado (KNN, NaiveBayes, y regresión logística)."
   ]
  },
  {
   "cell_type": "markdown",
   "metadata": {},
   "source": [
    "# 1. Entendimiento de los datos, limpieza"
   ]
  },
  {
   "cell_type": "markdown",
   "metadata": {},
   "source": [
    "El archivo \"DatosTelco.csv\" contiene el dataset que tienen que analizar.\n",
    "Se recomienda abrirlo primero en un lector de archivos planos para entender preliminarmente su formato y así poderlo cargar adecuadamente con Python."
   ]
  },
  {
   "cell_type": "markdown",
   "metadata": {},
   "source": [
    "Teniendo en cuenta el tipo de problema en cuestión (clasificación o regresión), realice un análisis exploratorio de los datos estableciendo el baseline, verificando la calidad de los datos (tipos de las variables, valores inválidos, excepciones, valores faltantes, etc.), utilizando gráficos para poder entender las distribuciones de los datos e identificar posibles problemas."
   ]
  },
  {
   "cell_type": "markdown",
   "metadata": {},
   "source": [
    "Tenga en cuenta lo siguiente: \n",
    "- para modificar ciertos valores de un dataframe, se utiliza \"df.replace('oldvalue', 'newvalue')\", si se trata de un valor NaN, se utiliza *np.nan* (ya sea el oldvalue o el newvalue)\n",
    "- para cambiar un tipo de dato a numérico en una estructura de pandas, se utiliza su método \".astype('float64')\"\n",
    "- para negar una condición en python se utiliza el símbolo \"~\"\n",
    "- para obtener una tabla de frecuencias de los registros (filas) con respecto al valor de una variable categórica se utiliza \"pd.crosstab(index=df['var'], columns=\"conteo\")\n",
    "- para cambiar los valores de una columna en un dataframe con condiciones, utilizar \"df.loc[condicion, 'columna']=newVal\"\n",
    "- cuando haya atributos con demasiados valores faltantes, pueden eliminar la columna correspondiente.\n",
    "- cuando haya atributos con unos pocos valores faltantes, pueden eliminar los registros correspondientes.\n",
    "- cuando el número de valores faltantes de un atributo no sea tan elevado, pero si sea considerable, pueden reemplazar los valores faltantes:\n",
    "  - Si se trata de una variable categórica, pueden crear un nuevo valor, o reemplazar por la categoría más común\n",
    "  - Si se trata de una variable numérica, pueden reemplazar por el promedio de los valores presentes del atributo\n",
    "- cuando se quiere ordenar un dataframe por los valores de una columna se usa \"df.sort_values(\"COLUMNA\", ascending=True)\"\n",
    "- para borrar los registros a partir de un índice de fila se utiliza \"df.drop([0,3])\"\n",
    "- para borrar los registros a partir de una condición se utiliza \"df = df[df.edad<99]\"\n",
    "- para borrar una columna por nombre se utiliza --> df = df.drop('columna',axis=1) "
   ]
  },
  {
   "cell_type": "markdown",
   "metadata": {},
   "source": [
    "# Puntos a desarrollar"
   ]
  },
  {
   "cell_type": "markdown",
   "metadata": {},
   "source": [
    "DURANTE EL EXAMEN, EN CLASE: \n",
    "1. <font color='red'>Carguen el archivo en memoria y exploren los datos. Antes de hacer limpieza identifiquen, el baseline global (0.1) y los baselines por GÉNERO (0.2).\n",
    "   ¿A primera vista, solo considerando el género, cree que es una buena idea crear un modelo predictivo de la deserción de hombres y de mujeres de manera separada? (0.2).</font>\n",
    "2. <font color='red'>Identifiquen los problemas e inconsistencias que tienen los datos, teniendo en cuenta el diccionario de datos y el contexto del problema. Limpien los datos, argumentando las razones de cada transformación o eliminación de datos.\n",
    "(1.1). </font>\n",
    "\n",
    "EN CASA, PARA ENTREGAR: \n",
    "3. <font color='red'>Para arreglar un problema existente en la variable CASA: (1.0)\n",
    "    * utilice un modelo de regresión lineal (use el modelo sklearn.linear_model.LinearRegression, no use statsmodels)\n",
    "    * considere solo las demas variables NUMÉRICAS como variables predictivas\n",
    "    * cree el mejor modelo que utilice 1 solo variable, calcule el R2 ajustado e interprételo\n",
    "    * utilice holdout (70/30) como protocolo de evaluación\n",
    "</font>"
   ]
  },
  {
   "cell_type": "markdown",
   "metadata": {},
   "source": [
    "# 1.1 Carga y baselines pre-limpieza de datos"
   ]
  },
  {
   "cell_type": "code",
   "execution_count": 1,
   "metadata": {},
   "outputs": [],
   "source": [
    "import numpy as np #operaciones matriciales y con vectores\n",
    "import pandas as pd #tratamiento de datos\n",
    "import matplotlib.pyplot as plt #gráficos\n",
    "from sklearn.neighbors import KNeighborsClassifier\n",
    "from sklearn.naive_bayes import GaussianNB\n",
    "from sklearn.linear_model import LinearRegression # modelos lineales\n",
    "from sklearn.metrics import r2_score\n",
    "from sklearn.model_selection import train_test_split #metodo de particionamiento de datasets para evaluación\n",
    "from sklearn.model_selection import cross_val_score #protocolo de evaluación\n",
    "from sklearn import datasets, metrics\n",
    "from sklearn import preprocessing\n",
    "import seaborn as sns"
   ]
  },
  {
   "cell_type": "markdown",
   "metadata": {},
   "source": [
    "...\n",
    "\n",
    "...\n",
    "\n",
    "..."
   ]
  },
  {
   "cell_type": "code",
   "execution_count": 2,
   "metadata": {},
   "outputs": [
    {
     "data": {
      "text/html": [
       "<div>\n",
       "<style scoped>\n",
       "    .dataframe tbody tr th:only-of-type {\n",
       "        vertical-align: middle;\n",
       "    }\n",
       "\n",
       "    .dataframe tbody tr th {\n",
       "        vertical-align: top;\n",
       "    }\n",
       "\n",
       "    .dataframe thead th {\n",
       "        text-align: right;\n",
       "    }\n",
       "</style>\n",
       "<table border=\"1\" class=\"dataframe\">\n",
       "  <thead>\n",
       "    <tr style=\"text-align: right;\">\n",
       "      <th></th>\n",
       "      <th>ID</th>\n",
       "      <th>ESTADO</th>\n",
       "      <th>INGRESOS</th>\n",
       "      <th>CASA</th>\n",
       "      <th>PRECIO_DISPOSITIVO</th>\n",
       "      <th>GENERO</th>\n",
       "      <th>MESES</th>\n",
       "      <th>DURACION</th>\n",
       "      <th>SOBRECARGO</th>\n",
       "      <th>SALDO_RESTANTE</th>\n",
       "      <th>SATISFACCION</th>\n",
       "    </tr>\n",
       "  </thead>\n",
       "  <tbody>\n",
       "    <tr>\n",
       "      <th>0</th>\n",
       "      <td>1</td>\n",
       "      <td>VINCULADO</td>\n",
       "      <td>4074840</td>\n",
       "      <td>6.878215e+08</td>\n",
       "      <td>1444153.0</td>\n",
       "      <td>Mujer</td>\n",
       "      <td>26</td>\n",
       "      <td>2.3</td>\n",
       "      <td>11.167542</td>\n",
       "      <td>20.3</td>\n",
       "      <td>1.762872</td>\n",
       "    </tr>\n",
       "    <tr>\n",
       "      <th>1</th>\n",
       "      <td>2</td>\n",
       "      <td>VINCULADO</td>\n",
       "      <td>8574088</td>\n",
       "      <td>1.349120e+09</td>\n",
       "      <td>2157661.0</td>\n",
       "      <td>Hombre</td>\n",
       "      <td>23</td>\n",
       "      <td>3.7</td>\n",
       "      <td>0.000000</td>\n",
       "      <td>53.5</td>\n",
       "      <td>3.361266</td>\n",
       "    </tr>\n",
       "    <tr>\n",
       "      <th>2</th>\n",
       "      <td>3</td>\n",
       "      <td>RETIRADO</td>\n",
       "      <td>795993</td>\n",
       "      <td>1.326558e+08</td>\n",
       "      <td>452809.0</td>\n",
       "      <td>Mujer</td>\n",
       "      <td>38</td>\n",
       "      <td>16.8</td>\n",
       "      <td>350.610224</td>\n",
       "      <td>13.9</td>\n",
       "      <td>8.359438</td>\n",
       "    </tr>\n",
       "    <tr>\n",
       "      <th>3</th>\n",
       "      <td>4</td>\n",
       "      <td>RETIRADO</td>\n",
       "      <td>8115015</td>\n",
       "      <td>1.290405e+09</td>\n",
       "      <td>2617184.0</td>\n",
       "      <td>Mujer</td>\n",
       "      <td>37</td>\n",
       "      <td>17.6</td>\n",
       "      <td>230.913888</td>\n",
       "      <td>45.7</td>\n",
       "      <td>8.964017</td>\n",
       "    </tr>\n",
       "    <tr>\n",
       "      <th>4</th>\n",
       "      <td>5</td>\n",
       "      <td>RETIRADO</td>\n",
       "      <td>8187499</td>\n",
       "      <td>1.305348e+09</td>\n",
       "      <td>666069.0</td>\n",
       "      <td>Mujer</td>\n",
       "      <td>19</td>\n",
       "      <td>0.0</td>\n",
       "      <td>131.541983</td>\n",
       "      <td>67.2</td>\n",
       "      <td>8.808206</td>\n",
       "    </tr>\n",
       "  </tbody>\n",
       "</table>\n",
       "</div>"
      ],
      "text/plain": [
       "   ID     ESTADO  INGRESOS          CASA  PRECIO_DISPOSITIVO  GENERO  MESES  \\\n",
       "0   1  VINCULADO   4074840  6.878215e+08           1444153.0   Mujer     26   \n",
       "1   2  VINCULADO   8574088  1.349120e+09           2157661.0  Hombre     23   \n",
       "2   3   RETIRADO    795993  1.326558e+08            452809.0   Mujer     38   \n",
       "3   4   RETIRADO   8115015  1.290405e+09           2617184.0   Mujer     37   \n",
       "4   5   RETIRADO   8187499  1.305348e+09            666069.0   Mujer     19   \n",
       "\n",
       "   DURACION  SOBRECARGO  SALDO_RESTANTE  SATISFACCION  \n",
       "0       2.3   11.167542            20.3      1.762872  \n",
       "1       3.7    0.000000            53.5      3.361266  \n",
       "2      16.8  350.610224            13.9      8.359438  \n",
       "3      17.6  230.913888            45.7      8.964017  \n",
       "4       0.0  131.541983            67.2      8.808206  "
      ]
     },
     "execution_count": 2,
     "metadata": {},
     "output_type": "execute_result"
    }
   ],
   "source": [
    "df = pd.read_csv('03-04-DatosTelco.csv',';')\n",
    "df.head()"
   ]
  },
  {
   "cell_type": "code",
   "execution_count": 3,
   "metadata": {},
   "outputs": [
    {
     "data": {
      "text/html": [
       "<div>\n",
       "<style scoped>\n",
       "    .dataframe tbody tr th:only-of-type {\n",
       "        vertical-align: middle;\n",
       "    }\n",
       "\n",
       "    .dataframe tbody tr th {\n",
       "        vertical-align: top;\n",
       "    }\n",
       "\n",
       "    .dataframe thead th {\n",
       "        text-align: right;\n",
       "    }\n",
       "</style>\n",
       "<table border=\"1\" class=\"dataframe\">\n",
       "  <thead>\n",
       "    <tr style=\"text-align: right;\">\n",
       "      <th></th>\n",
       "      <th>ID</th>\n",
       "      <th>ESTADO</th>\n",
       "      <th>INGRESOS</th>\n",
       "      <th>CASA</th>\n",
       "      <th>PRECIO_DISPOSITIVO</th>\n",
       "      <th>GENERO</th>\n",
       "      <th>MESES</th>\n",
       "      <th>DURACION</th>\n",
       "      <th>SOBRECARGO</th>\n",
       "      <th>SALDO_RESTANTE</th>\n",
       "      <th>SATISFACCION</th>\n",
       "    </tr>\n",
       "  </thead>\n",
       "  <tbody>\n",
       "    <tr>\n",
       "      <th>23157</th>\n",
       "      <td>23158</td>\n",
       "      <td>RETIRADO</td>\n",
       "      <td>473169</td>\n",
       "      <td>8.888342e+07</td>\n",
       "      <td>1128088.0</td>\n",
       "      <td>Hombre</td>\n",
       "      <td>28</td>\n",
       "      <td>14.9</td>\n",
       "      <td>153.90060</td>\n",
       "      <td>18.6</td>\n",
       "      <td>8.359296</td>\n",
       "    </tr>\n",
       "    <tr>\n",
       "      <th>23158</th>\n",
       "      <td>23159</td>\n",
       "      <td>VINCULADO</td>\n",
       "      <td>3544204</td>\n",
       "      <td>5.350386e+08</td>\n",
       "      <td>332460.0</td>\n",
       "      <td>Mujer</td>\n",
       "      <td>0</td>\n",
       "      <td>2.0</td>\n",
       "      <td>20.31440</td>\n",
       "      <td>16.4</td>\n",
       "      <td>2.670153</td>\n",
       "    </tr>\n",
       "    <tr>\n",
       "      <th>23159</th>\n",
       "      <td>23160</td>\n",
       "      <td>RETIRADO</td>\n",
       "      <td>7523054</td>\n",
       "      <td>1.158340e+09</td>\n",
       "      <td>296138.0</td>\n",
       "      <td>Mujer</td>\n",
       "      <td>6</td>\n",
       "      <td>17.8</td>\n",
       "      <td>290.73090</td>\n",
       "      <td>58.9</td>\n",
       "      <td>8.510907</td>\n",
       "    </tr>\n",
       "    <tr>\n",
       "      <th>23160</th>\n",
       "      <td>23161</td>\n",
       "      <td>VINCULADO</td>\n",
       "      <td>1205914</td>\n",
       "      <td>2.737018e+08</td>\n",
       "      <td>2206199.0</td>\n",
       "      <td>Mujer</td>\n",
       "      <td>44</td>\n",
       "      <td>16.1</td>\n",
       "      <td>139.29630</td>\n",
       "      <td>18.2</td>\n",
       "      <td>8.773616</td>\n",
       "    </tr>\n",
       "    <tr>\n",
       "      <th>23161</th>\n",
       "      <td>23162</td>\n",
       "      <td>VINCULADO</td>\n",
       "      <td>8343704</td>\n",
       "      <td>1.328386e+09</td>\n",
       "      <td>2022312.0</td>\n",
       "      <td>Hombre</td>\n",
       "      <td>0</td>\n",
       "      <td>16.8</td>\n",
       "      <td>21.57594</td>\n",
       "      <td>64.9</td>\n",
       "      <td>2.332979</td>\n",
       "    </tr>\n",
       "  </tbody>\n",
       "</table>\n",
       "</div>"
      ],
      "text/plain": [
       "          ID     ESTADO  INGRESOS          CASA  PRECIO_DISPOSITIVO  GENERO  \\\n",
       "23157  23158   RETIRADO    473169  8.888342e+07           1128088.0  Hombre   \n",
       "23158  23159  VINCULADO   3544204  5.350386e+08            332460.0   Mujer   \n",
       "23159  23160   RETIRADO   7523054  1.158340e+09            296138.0   Mujer   \n",
       "23160  23161  VINCULADO   1205914  2.737018e+08           2206199.0   Mujer   \n",
       "23161  23162  VINCULADO   8343704  1.328386e+09           2022312.0  Hombre   \n",
       "\n",
       "       MESES  DURACION  SOBRECARGO  SALDO_RESTANTE  SATISFACCION  \n",
       "23157     28      14.9   153.90060            18.6      8.359296  \n",
       "23158      0       2.0    20.31440            16.4      2.670153  \n",
       "23159      6      17.8   290.73090            58.9      8.510907  \n",
       "23160     44      16.1   139.29630            18.2      8.773616  \n",
       "23161      0      16.8    21.57594            64.9      2.332979  "
      ]
     },
     "execution_count": 3,
     "metadata": {},
     "output_type": "execute_result"
    }
   ],
   "source": [
    "df.tail()"
   ]
  },
  {
   "cell_type": "code",
   "execution_count": 4,
   "metadata": {},
   "outputs": [
    {
     "data": {
      "text/plain": [
       "(23162, 11)"
      ]
     },
     "execution_count": 4,
     "metadata": {},
     "output_type": "execute_result"
    }
   ],
   "source": [
    "df.shape"
   ]
  },
  {
   "cell_type": "code",
   "execution_count": 5,
   "metadata": {},
   "outputs": [
    {
     "data": {
      "text/plain": [
       "['ID',\n",
       " 'ESTADO',\n",
       " 'INGRESOS',\n",
       " 'CASA',\n",
       " 'PRECIO_DISPOSITIVO',\n",
       " 'GENERO',\n",
       " 'MESES',\n",
       " 'DURACION',\n",
       " 'SOBRECARGO',\n",
       " 'SALDO_RESTANTE',\n",
       " 'SATISFACCION']"
      ]
     },
     "execution_count": 5,
     "metadata": {},
     "output_type": "execute_result"
    }
   ],
   "source": [
    "df.columns.tolist()"
   ]
  },
  {
   "cell_type": "code",
   "execution_count": 6,
   "metadata": {},
   "outputs": [
    {
     "data": {
      "text/html": [
       "<div>\n",
       "<style scoped>\n",
       "    .dataframe tbody tr th:only-of-type {\n",
       "        vertical-align: middle;\n",
       "    }\n",
       "\n",
       "    .dataframe tbody tr th {\n",
       "        vertical-align: top;\n",
       "    }\n",
       "\n",
       "    .dataframe thead th {\n",
       "        text-align: right;\n",
       "    }\n",
       "</style>\n",
       "<table border=\"1\" class=\"dataframe\">\n",
       "  <thead>\n",
       "    <tr style=\"text-align: right;\">\n",
       "      <th></th>\n",
       "      <th>ID</th>\n",
       "      <th>INGRESOS</th>\n",
       "      <th>CASA</th>\n",
       "      <th>PRECIO_DISPOSITIVO</th>\n",
       "      <th>MESES</th>\n",
       "      <th>DURACION</th>\n",
       "      <th>SOBRECARGO</th>\n",
       "      <th>SALDO_RESTANTE</th>\n",
       "      <th>SATISFACCION</th>\n",
       "    </tr>\n",
       "  </thead>\n",
       "  <tbody>\n",
       "    <tr>\n",
       "      <th>count</th>\n",
       "      <td>23162.000000</td>\n",
       "      <td>2.316200e+04</td>\n",
       "      <td>2.306200e+04</td>\n",
       "      <td>2.316200e+04</td>\n",
       "      <td>23162.000000</td>\n",
       "      <td>23162.000000</td>\n",
       "      <td>23159.000000</td>\n",
       "      <td>23162.000000</td>\n",
       "      <td>23162.000000</td>\n",
       "    </tr>\n",
       "    <tr>\n",
       "      <th>mean</th>\n",
       "      <td>11581.500000</td>\n",
       "      <td>4.813115e+06</td>\n",
       "      <td>7.823571e+08</td>\n",
       "      <td>1.454784e+06</td>\n",
       "      <td>23.862620</td>\n",
       "      <td>9.609852</td>\n",
       "      <td>110.050331</td>\n",
       "      <td>42.991888</td>\n",
       "      <td>5.480840</td>\n",
       "    </tr>\n",
       "    <tr>\n",
       "      <th>std</th>\n",
       "      <td>6686.437803</td>\n",
       "      <td>2.737374e+06</td>\n",
       "      <td>5.540029e+08</td>\n",
       "      <td>1.427590e+07</td>\n",
       "      <td>14.816863</td>\n",
       "      <td>7.040007</td>\n",
       "      <td>100.769297</td>\n",
       "      <td>30.204540</td>\n",
       "      <td>2.809938</td>\n",
       "    </tr>\n",
       "    <tr>\n",
       "      <th>min</th>\n",
       "      <td>1.000000</td>\n",
       "      <td>1.500000e+05</td>\n",
       "      <td>-1.779042e+07</td>\n",
       "      <td>1.693380e+02</td>\n",
       "      <td>-55.000000</td>\n",
       "      <td>0.000000</td>\n",
       "      <td>0.000000</td>\n",
       "      <td>0.000000</td>\n",
       "      <td>0.613580</td>\n",
       "    </tr>\n",
       "    <tr>\n",
       "      <th>25%</th>\n",
       "      <td>5791.250000</td>\n",
       "      <td>2.156296e+06</td>\n",
       "      <td>3.660683e+08</td>\n",
       "      <td>6.571840e+05</td>\n",
       "      <td>14.000000</td>\n",
       "      <td>2.100000</td>\n",
       "      <td>12.568985</td>\n",
       "      <td>15.200000</td>\n",
       "      <td>2.705504</td>\n",
       "    </tr>\n",
       "    <tr>\n",
       "      <th>50%</th>\n",
       "      <td>11581.500000</td>\n",
       "      <td>6.137553e+06</td>\n",
       "      <td>9.703263e+08</td>\n",
       "      <td>1.237542e+06</td>\n",
       "      <td>24.000000</td>\n",
       "      <td>14.600000</td>\n",
       "      <td>75.379060</td>\n",
       "      <td>37.650000</td>\n",
       "      <td>4.064550</td>\n",
       "    </tr>\n",
       "    <tr>\n",
       "      <th>75%</th>\n",
       "      <td>17371.750000</td>\n",
       "      <td>7.347180e+06</td>\n",
       "      <td>1.171952e+09</td>\n",
       "      <td>1.829751e+06</td>\n",
       "      <td>34.000000</td>\n",
       "      <td>16.100000</td>\n",
       "      <td>201.529547</td>\n",
       "      <td>70.000000</td>\n",
       "      <td>8.268244</td>\n",
       "    </tr>\n",
       "    <tr>\n",
       "      <th>max</th>\n",
       "      <td>23162.000000</td>\n",
       "      <td>9.650000e+06</td>\n",
       "      <td>4.664422e+10</td>\n",
       "      <td>1.859365e+09</td>\n",
       "      <td>79.000000</td>\n",
       "      <td>20.100000</td>\n",
       "      <td>411.168400</td>\n",
       "      <td>130.700000</td>\n",
       "      <td>9.642618</td>\n",
       "    </tr>\n",
       "  </tbody>\n",
       "</table>\n",
       "</div>"
      ],
      "text/plain": [
       "                 ID      INGRESOS          CASA  PRECIO_DISPOSITIVO  \\\n",
       "count  23162.000000  2.316200e+04  2.306200e+04        2.316200e+04   \n",
       "mean   11581.500000  4.813115e+06  7.823571e+08        1.454784e+06   \n",
       "std     6686.437803  2.737374e+06  5.540029e+08        1.427590e+07   \n",
       "min        1.000000  1.500000e+05 -1.779042e+07        1.693380e+02   \n",
       "25%     5791.250000  2.156296e+06  3.660683e+08        6.571840e+05   \n",
       "50%    11581.500000  6.137553e+06  9.703263e+08        1.237542e+06   \n",
       "75%    17371.750000  7.347180e+06  1.171952e+09        1.829751e+06   \n",
       "max    23162.000000  9.650000e+06  4.664422e+10        1.859365e+09   \n",
       "\n",
       "              MESES      DURACION    SOBRECARGO  SALDO_RESTANTE  SATISFACCION  \n",
       "count  23162.000000  23162.000000  23159.000000    23162.000000  23162.000000  \n",
       "mean      23.862620      9.609852    110.050331       42.991888      5.480840  \n",
       "std       14.816863      7.040007    100.769297       30.204540      2.809938  \n",
       "min      -55.000000      0.000000      0.000000        0.000000      0.613580  \n",
       "25%       14.000000      2.100000     12.568985       15.200000      2.705504  \n",
       "50%       24.000000     14.600000     75.379060       37.650000      4.064550  \n",
       "75%       34.000000     16.100000    201.529547       70.000000      8.268244  \n",
       "max       79.000000     20.100000    411.168400      130.700000      9.642618  "
      ]
     },
     "execution_count": 6,
     "metadata": {},
     "output_type": "execute_result"
    }
   ],
   "source": [
    "df.describe()"
   ]
  },
  {
   "cell_type": "code",
   "execution_count": 7,
   "metadata": {},
   "outputs": [
    {
     "data": {
      "text/html": [
       "<div>\n",
       "<style scoped>\n",
       "    .dataframe tbody tr th:only-of-type {\n",
       "        vertical-align: middle;\n",
       "    }\n",
       "\n",
       "    .dataframe tbody tr th {\n",
       "        vertical-align: top;\n",
       "    }\n",
       "\n",
       "    .dataframe thead th {\n",
       "        text-align: right;\n",
       "    }\n",
       "</style>\n",
       "<table border=\"1\" class=\"dataframe\">\n",
       "  <thead>\n",
       "    <tr style=\"text-align: right;\">\n",
       "      <th></th>\n",
       "      <th>ESTADO</th>\n",
       "      <th>GENERO</th>\n",
       "    </tr>\n",
       "  </thead>\n",
       "  <tbody>\n",
       "    <tr>\n",
       "      <th>count</th>\n",
       "      <td>23157</td>\n",
       "      <td>23162</td>\n",
       "    </tr>\n",
       "    <tr>\n",
       "      <th>unique</th>\n",
       "      <td>2</td>\n",
       "      <td>2</td>\n",
       "    </tr>\n",
       "    <tr>\n",
       "      <th>top</th>\n",
       "      <td>RETIRADO</td>\n",
       "      <td>Hombre</td>\n",
       "    </tr>\n",
       "    <tr>\n",
       "      <th>freq</th>\n",
       "      <td>11660</td>\n",
       "      <td>11647</td>\n",
       "    </tr>\n",
       "  </tbody>\n",
       "</table>\n",
       "</div>"
      ],
      "text/plain": [
       "          ESTADO  GENERO\n",
       "count      23157   23162\n",
       "unique         2       2\n",
       "top     RETIRADO  Hombre\n",
       "freq       11660   11647"
      ]
     },
     "execution_count": 7,
     "metadata": {},
     "output_type": "execute_result"
    }
   ],
   "source": [
    "df.describe(include = np.object)"
   ]
  },
  {
   "cell_type": "code",
   "execution_count": 8,
   "metadata": {},
   "outputs": [
    {
     "data": {
      "text/plain": [
       "RETIRADO     11660\n",
       "VINCULADO    11497\n",
       "Name: ESTADO, dtype: int64"
      ]
     },
     "execution_count": 8,
     "metadata": {},
     "output_type": "execute_result"
    }
   ],
   "source": [
    "df['ESTADO'].value_counts()"
   ]
  },
  {
   "cell_type": "code",
   "execution_count": 9,
   "metadata": {},
   "outputs": [
    {
     "data": {
      "text/plain": [
       "Hombre    11647\n",
       "Mujer     11515\n",
       "Name: GENERO, dtype: int64"
      ]
     },
     "execution_count": 9,
     "metadata": {},
     "output_type": "execute_result"
    }
   ],
   "source": [
    "df['GENERO'].value_counts()"
   ]
  },
  {
   "cell_type": "code",
   "execution_count": 10,
   "metadata": {},
   "outputs": [
    {
     "data": {
      "text/plain": [
       "ID                      0\n",
       "ESTADO                  5\n",
       "INGRESOS                0\n",
       "CASA                  100\n",
       "PRECIO_DISPOSITIVO      0\n",
       "GENERO                  0\n",
       "MESES                   0\n",
       "DURACION                0\n",
       "SOBRECARGO              3\n",
       "SALDO_RESTANTE          0\n",
       "SATISFACCION            0\n",
       "dtype: int64"
      ]
     },
     "execution_count": 10,
     "metadata": {},
     "output_type": "execute_result"
    }
   ],
   "source": [
    "df.isnull().sum()"
   ]
  },
  {
   "cell_type": "code",
   "execution_count": 12,
   "metadata": {},
   "outputs": [],
   "source": [
    "df = df.dropna(subset = ['ESTADO', 'SOBRECARGO'])"
   ]
  },
  {
   "cell_type": "code",
   "execution_count": 13,
   "metadata": {},
   "outputs": [
    {
     "data": {
      "text/plain": [
       "ID                      0\n",
       "ESTADO                  0\n",
       "INGRESOS                0\n",
       "CASA                  100\n",
       "PRECIO_DISPOSITIVO      0\n",
       "GENERO                  0\n",
       "MESES                   0\n",
       "DURACION                0\n",
       "SOBRECARGO              0\n",
       "SALDO_RESTANTE          0\n",
       "SATISFACCION            0\n",
       "dtype: int64"
      ]
     },
     "execution_count": 13,
     "metadata": {},
     "output_type": "execute_result"
    }
   ],
   "source": [
    "df.isnull().sum()"
   ]
  },
  {
   "cell_type": "code",
   "execution_count": 14,
   "metadata": {},
   "outputs": [
    {
     "data": {
      "text/plain": [
       "<matplotlib.axes._subplots.AxesSubplot at 0x2b02b5528c8>"
      ]
     },
     "execution_count": 14,
     "metadata": {},
     "output_type": "execute_result"
    },
    {
     "data": {
      "image/png": "[encoded data removed]",
      "text/plain": [
       "<Figure size 432x288 with 1 Axes>"
      ]
     },
     "metadata": {
      "needs_background": "light"
     },
     "output_type": "display_data"
    }
   ],
   "source": [
    "df.boxplot(column=['CASA'])"
   ]
  },
  {
   "cell_type": "code",
   "execution_count": 15,
   "metadata": {},
   "outputs": [],
   "source": [
    "df = df[df['CASA'] <= df['CASA'].quantile(0.99)]\n",
    "df['CASA'] = df['CASA'].abs()"
   ]
  },
  {
   "cell_type": "code",
   "execution_count": 16,
   "metadata": {},
   "outputs": [
    {
     "data": {
      "text/plain": [
       "<matplotlib.axes._subplots.AxesSubplot at 0x2b02b757a08>"
      ]
     },
     "execution_count": 16,
     "metadata": {},
     "output_type": "execute_result"
    },
    {
     "data": {
      "image/png": "[encoded data removed]",
      "text/plain": [
       "<Figure size 432x288 with 1 Axes>"
      ]
     },
     "metadata": {
      "needs_background": "light"
     },
     "output_type": "display_data"
    }
   ],
   "source": [
    "df.boxplot(column=['CASA'])"
   ]
  },
  {
   "cell_type": "code",
   "execution_count": 17,
   "metadata": {},
   "outputs": [
    {
     "data": {
      "text/html": [
       "<div>\n",
       "<style scoped>\n",
       "    .dataframe tbody tr th:only-of-type {\n",
       "        vertical-align: middle;\n",
       "    }\n",
       "\n",
       "    .dataframe tbody tr th {\n",
       "        vertical-align: top;\n",
       "    }\n",
       "\n",
       "    .dataframe thead th {\n",
       "        text-align: right;\n",
       "    }\n",
       "</style>\n",
       "<table border=\"1\" class=\"dataframe\">\n",
       "  <thead>\n",
       "    <tr style=\"text-align: right;\">\n",
       "      <th></th>\n",
       "      <th>CASA</th>\n",
       "    </tr>\n",
       "  </thead>\n",
       "  <tbody>\n",
       "    <tr>\n",
       "      <th>count</th>\n",
       "      <td>2.282300e+04</td>\n",
       "    </tr>\n",
       "    <tr>\n",
       "      <th>mean</th>\n",
       "      <td>7.728010e+08</td>\n",
       "    </tr>\n",
       "    <tr>\n",
       "      <th>std</th>\n",
       "      <td>4.230393e+08</td>\n",
       "    </tr>\n",
       "    <tr>\n",
       "      <th>min</th>\n",
       "      <td>2.036957e+05</td>\n",
       "    </tr>\n",
       "    <tr>\n",
       "      <th>25%</th>\n",
       "      <td>3.609183e+08</td>\n",
       "    </tr>\n",
       "    <tr>\n",
       "      <th>50%</th>\n",
       "      <td>9.361134e+08</td>\n",
       "    </tr>\n",
       "    <tr>\n",
       "      <th>75%</th>\n",
       "      <td>1.168336e+09</td>\n",
       "    </tr>\n",
       "    <tr>\n",
       "      <th>max</th>\n",
       "      <td>1.358020e+09</td>\n",
       "    </tr>\n",
       "  </tbody>\n",
       "</table>\n",
       "</div>"
      ],
      "text/plain": [
       "               CASA\n",
       "count  2.282300e+04\n",
       "mean   7.728010e+08\n",
       "std    4.230393e+08\n",
       "min    2.036957e+05\n",
       "25%    3.609183e+08\n",
       "50%    9.361134e+08\n",
       "75%    1.168336e+09\n",
       "max    1.358020e+09"
      ]
     },
     "execution_count": 17,
     "metadata": {},
     "output_type": "execute_result"
    }
   ],
   "source": [
    "df[['CASA']].describe()"
   ]
  },
  {
   "cell_type": "code",
   "execution_count": 21,
   "metadata": {},
   "outputs": [
    {
     "data": {
      "text/plain": [
       "152"
      ]
     },
     "execution_count": 21,
     "metadata": {},
     "output_type": "execute_result"
    }
   ],
   "source": [
    "len(df[df.MESES < 0]['MESES'])"
   ]
  },
  {
   "cell_type": "code",
   "execution_count": 24,
   "metadata": {},
   "outputs": [],
   "source": [
    "df['MESES'] = df['MESES'].abs()"
   ]
  },
  {
   "cell_type": "code",
   "execution_count": 32,
   "metadata": {},
   "outputs": [
    {
     "data": {
      "text/plain": [
       "<matplotlib.axes._subplots.AxesSubplot at 0x2b02ceabf88>"
      ]
     },
     "execution_count": 32,
     "metadata": {},
     "output_type": "execute_result"
    },
    {
     "data": {
      "image/png": "[encoded data removed]",
      "text/plain": [
       "<Figure size 432x288 with 1 Axes>"
      ]
     },
     "metadata": {
      "needs_background": "light"
     },
     "output_type": "display_data"
    }
   ],
   "source": [
    "df.boxplot(column= ['MESES', 'SATISFACCION', 'SALDO_RESTANTE', 'DURACION'])"
   ]
  },
  {
   "cell_type": "code",
   "execution_count": 33,
   "metadata": {},
   "outputs": [
    {
     "data": {
      "text/plain": [
       "<matplotlib.axes._subplots.AxesSubplot at 0x2b02cf48b08>"
      ]
     },
     "execution_count": 33,
     "metadata": {},
     "output_type": "execute_result"
    },
    {
     "data": {
      "image/png": "[encoded data removed]",
      "text/plain": [
       "<Figure size 432x288 with 1 Axes>"
      ]
     },
     "metadata": {
      "needs_background": "light"
     },
     "output_type": "display_data"
    }
   ],
   "source": [
    "df.boxplot(column= 'PRECIO_DISPOSITIVO')"
   ]
  },
  {
   "cell_type": "code",
   "execution_count": 34,
   "metadata": {},
   "outputs": [
    {
     "data": {
      "text/plain": [
       "<matplotlib.axes._subplots.AxesSubplot at 0x2b02cfe4c88>"
      ]
     },
     "execution_count": 34,
     "metadata": {},
     "output_type": "execute_result"
    },
    {
     "data": {
      "image/png": "[encoded data removed]",
      "text/plain": [
       "<Figure size 432x288 with 1 Axes>"
      ]
     },
     "metadata": {
      "needs_background": "light"
     },
     "output_type": "display_data"
    }
   ],
   "source": [
    "df.boxplot(column= 'INGRESOS')"
   ]
  },
  {
   "cell_type": "code",
   "execution_count": 36,
   "metadata": {
    "scrolled": true
   },
   "outputs": [
    {
     "data": {
      "text/plain": [
       "<matplotlib.axes._subplots.AxesSubplot at 0x2b02d06f888>"
      ]
     },
     "execution_count": 36,
     "metadata": {},
     "output_type": "execute_result"
    },
    {
     "data": {
      "image/png": "[encoded data removed]",
      "text/plain": [
       "<Figure size 432x288 with 1 Axes>"
      ]
     },
     "metadata": {
      "needs_background": "light"
     },
     "output_type": "display_data"
    }
   ],
   "source": [
    "df.boxplot(column = 'MESES')"
   ]
  },
  {
   "cell_type": "code",
   "execution_count": 38,
   "metadata": {},
   "outputs": [
    {
     "data": {
      "text/html": [
       "<div>\n",
       "<style scoped>\n",
       "    .dataframe tbody tr th:only-of-type {\n",
       "        vertical-align: middle;\n",
       "    }\n",
       "\n",
       "    .dataframe tbody tr th {\n",
       "        vertical-align: top;\n",
       "    }\n",
       "\n",
       "    .dataframe thead th {\n",
       "        text-align: right;\n",
       "    }\n",
       "</style>\n",
       "<table border=\"1\" class=\"dataframe\">\n",
       "  <thead>\n",
       "    <tr style=\"text-align: right;\">\n",
       "      <th></th>\n",
       "      <th>ID</th>\n",
       "      <th>ESTADO</th>\n",
       "      <th>INGRESOS</th>\n",
       "      <th>CASA</th>\n",
       "      <th>PRECIO_DISPOSITIVO</th>\n",
       "      <th>GENERO</th>\n",
       "      <th>MESES</th>\n",
       "      <th>DURACION</th>\n",
       "      <th>SOBRECARGO</th>\n",
       "      <th>SALDO_RESTANTE</th>\n",
       "      <th>SATISFACCION</th>\n",
       "    </tr>\n",
       "  </thead>\n",
       "  <tbody>\n",
       "    <tr>\n",
       "      <th>count</th>\n",
       "      <td>22823.000000</td>\n",
       "      <td>22823</td>\n",
       "      <td>2.282300e+04</td>\n",
       "      <td>2.282300e+04</td>\n",
       "      <td>2.282300e+04</td>\n",
       "      <td>22823</td>\n",
       "      <td>22823.000000</td>\n",
       "      <td>22823.000000</td>\n",
       "      <td>22823.000000</td>\n",
       "      <td>22823.000000</td>\n",
       "      <td>22823.000000</td>\n",
       "    </tr>\n",
       "    <tr>\n",
       "      <th>unique</th>\n",
       "      <td>NaN</td>\n",
       "      <td>2</td>\n",
       "      <td>NaN</td>\n",
       "      <td>NaN</td>\n",
       "      <td>NaN</td>\n",
       "      <td>2</td>\n",
       "      <td>NaN</td>\n",
       "      <td>NaN</td>\n",
       "      <td>NaN</td>\n",
       "      <td>NaN</td>\n",
       "      <td>NaN</td>\n",
       "    </tr>\n",
       "    <tr>\n",
       "      <th>top</th>\n",
       "      <td>NaN</td>\n",
       "      <td>RETIRADO</td>\n",
       "      <td>NaN</td>\n",
       "      <td>NaN</td>\n",
       "      <td>NaN</td>\n",
       "      <td>Hombre</td>\n",
       "      <td>NaN</td>\n",
       "      <td>NaN</td>\n",
       "      <td>NaN</td>\n",
       "      <td>NaN</td>\n",
       "      <td>NaN</td>\n",
       "    </tr>\n",
       "    <tr>\n",
       "      <th>freq</th>\n",
       "      <td>NaN</td>\n",
       "      <td>11504</td>\n",
       "      <td>NaN</td>\n",
       "      <td>NaN</td>\n",
       "      <td>NaN</td>\n",
       "      <td>11477</td>\n",
       "      <td>NaN</td>\n",
       "      <td>NaN</td>\n",
       "      <td>NaN</td>\n",
       "      <td>NaN</td>\n",
       "      <td>NaN</td>\n",
       "    </tr>\n",
       "    <tr>\n",
       "      <th>mean</th>\n",
       "      <td>11601.857468</td>\n",
       "      <td>NaN</td>\n",
       "      <td>4.774434e+06</td>\n",
       "      <td>7.728010e+08</td>\n",
       "      <td>1.311085e+06</td>\n",
       "      <td>NaN</td>\n",
       "      <td>24.200938</td>\n",
       "      <td>9.609482</td>\n",
       "      <td>110.169896</td>\n",
       "      <td>42.700530</td>\n",
       "      <td>5.482755</td>\n",
       "    </tr>\n",
       "    <tr>\n",
       "      <th>std</th>\n",
       "      <td>6687.656978</td>\n",
       "      <td>NaN</td>\n",
       "      <td>2.725597e+06</td>\n",
       "      <td>4.230393e+08</td>\n",
       "      <td>7.466208e+05</td>\n",
       "      <td>NaN</td>\n",
       "      <td>14.263142</td>\n",
       "      <td>7.040987</td>\n",
       "      <td>100.810010</td>\n",
       "      <td>30.180782</td>\n",
       "      <td>2.809528</td>\n",
       "    </tr>\n",
       "    <tr>\n",
       "      <th>min</th>\n",
       "      <td>1.000000</td>\n",
       "      <td>NaN</td>\n",
       "      <td>1.500000e+05</td>\n",
       "      <td>2.036957e+05</td>\n",
       "      <td>1.693380e+02</td>\n",
       "      <td>NaN</td>\n",
       "      <td>0.000000</td>\n",
       "      <td>0.000000</td>\n",
       "      <td>0.000000</td>\n",
       "      <td>0.000000</td>\n",
       "      <td>0.613580</td>\n",
       "    </tr>\n",
       "    <tr>\n",
       "      <th>25%</th>\n",
       "      <td>5861.500000</td>\n",
       "      <td>NaN</td>\n",
       "      <td>2.112856e+06</td>\n",
       "      <td>3.609183e+08</td>\n",
       "      <td>6.531475e+05</td>\n",
       "      <td>NaN</td>\n",
       "      <td>14.000000</td>\n",
       "      <td>2.100000</td>\n",
       "      <td>12.656025</td>\n",
       "      <td>15.100000</td>\n",
       "      <td>2.706657</td>\n",
       "    </tr>\n",
       "    <tr>\n",
       "      <th>50%</th>\n",
       "      <td>11618.000000</td>\n",
       "      <td>NaN</td>\n",
       "      <td>5.931223e+06</td>\n",
       "      <td>9.361134e+08</td>\n",
       "      <td>1.232947e+06</td>\n",
       "      <td>NaN</td>\n",
       "      <td>24.000000</td>\n",
       "      <td>14.600000</td>\n",
       "      <td>75.625530</td>\n",
       "      <td>35.700000</td>\n",
       "      <td>4.102860</td>\n",
       "    </tr>\n",
       "    <tr>\n",
       "      <th>75%</th>\n",
       "      <td>17389.500000</td>\n",
       "      <td>NaN</td>\n",
       "      <td>7.329446e+06</td>\n",
       "      <td>1.168336e+09</td>\n",
       "      <td>1.823124e+06</td>\n",
       "      <td>NaN</td>\n",
       "      <td>34.000000</td>\n",
       "      <td>16.100000</td>\n",
       "      <td>201.631300</td>\n",
       "      <td>69.750000</td>\n",
       "      <td>8.268228</td>\n",
       "    </tr>\n",
       "    <tr>\n",
       "      <th>max</th>\n",
       "      <td>23162.000000</td>\n",
       "      <td>NaN</td>\n",
       "      <td>8.824001e+06</td>\n",
       "      <td>1.358020e+09</td>\n",
       "      <td>4.531737e+06</td>\n",
       "      <td>NaN</td>\n",
       "      <td>79.000000</td>\n",
       "      <td>20.100000</td>\n",
       "      <td>411.168400</td>\n",
       "      <td>130.700000</td>\n",
       "      <td>9.642618</td>\n",
       "    </tr>\n",
       "  </tbody>\n",
       "</table>\n",
       "</div>"
      ],
      "text/plain": [
       "                  ID    ESTADO      INGRESOS          CASA  \\\n",
       "count   22823.000000     22823  2.282300e+04  2.282300e+04   \n",
       "unique           NaN         2           NaN           NaN   \n",
       "top              NaN  RETIRADO           NaN           NaN   \n",
       "freq             NaN     11504           NaN           NaN   \n",
       "mean    11601.857468       NaN  4.774434e+06  7.728010e+08   \n",
       "std      6687.656978       NaN  2.725597e+06  4.230393e+08   \n",
       "min         1.000000       NaN  1.500000e+05  2.036957e+05   \n",
       "25%      5861.500000       NaN  2.112856e+06  3.609183e+08   \n",
       "50%     11618.000000       NaN  5.931223e+06  9.361134e+08   \n",
       "75%     17389.500000       NaN  7.329446e+06  1.168336e+09   \n",
       "max     23162.000000       NaN  8.824001e+06  1.358020e+09   \n",
       "\n",
       "        PRECIO_DISPOSITIVO  GENERO         MESES      DURACION    SOBRECARGO  \\\n",
       "count         2.282300e+04   22823  22823.000000  22823.000000  22823.000000   \n",
       "unique                 NaN       2           NaN           NaN           NaN   \n",
       "top                    NaN  Hombre           NaN           NaN           NaN   \n",
       "freq                   NaN   11477           NaN           NaN           NaN   \n",
       "mean          1.311085e+06     NaN     24.200938      9.609482    110.169896   \n",
       "std           7.466208e+05     NaN     14.263142      7.040987    100.810010   \n",
       "min           1.693380e+02     NaN      0.000000      0.000000      0.000000   \n",
       "25%           6.531475e+05     NaN     14.000000      2.100000     12.656025   \n",
       "50%           1.232947e+06     NaN     24.000000     14.600000     75.625530   \n",
       "75%           1.823124e+06     NaN     34.000000     16.100000    201.631300   \n",
       "max           4.531737e+06     NaN     79.000000     20.100000    411.168400   \n",
       "\n",
       "        SALDO_RESTANTE  SATISFACCION  \n",
       "count     22823.000000  22823.000000  \n",
       "unique             NaN           NaN  \n",
       "top                NaN           NaN  \n",
       "freq               NaN           NaN  \n",
       "mean         42.700530      5.482755  \n",
       "std          30.180782      2.809528  \n",
       "min           0.000000      0.613580  \n",
       "25%          15.100000      2.706657  \n",
       "50%          35.700000      4.102860  \n",
       "75%          69.750000      8.268228  \n",
       "max         130.700000      9.642618  "
      ]
     },
     "execution_count": 38,
     "metadata": {},
     "output_type": "execute_result"
    }
   ],
   "source": [
    "df.describe(include='all')"
   ]
  },
  {
   "cell_type": "code",
   "execution_count": 39,
   "metadata": {},
   "outputs": [
    {
     "data": {
      "text/plain": [
       "ID                    0\n",
       "ESTADO                0\n",
       "INGRESOS              0\n",
       "CASA                  0\n",
       "PRECIO_DISPOSITIVO    0\n",
       "GENERO                0\n",
       "MESES                 0\n",
       "DURACION              0\n",
       "SOBRECARGO            0\n",
       "SALDO_RESTANTE        0\n",
       "SATISFACCION          0\n",
       "dtype: int64"
      ]
     },
     "execution_count": 39,
     "metadata": {},
     "output_type": "execute_result"
    }
   ],
   "source": [
    "df.isnull().sum()"
   ]
  },
  {
   "cell_type": "markdown",
   "metadata": {},
   "source": [
    "### Baseline global"
   ]
  },
  {
   "cell_type": "markdown",
   "metadata": {},
   "source": [
    "...\n",
    "\n",
    "...\n",
    "\n",
    "..."
   ]
  },
  {
   "cell_type": "markdown",
   "metadata": {},
   "source": [
    "### Baselines por género"
   ]
  },
  {
   "cell_type": "markdown",
   "metadata": {},
   "source": [
    "...\n",
    "\n",
    "...\n",
    "\n",
    "..."
   ]
  },
  {
   "cell_type": "markdown",
   "metadata": {},
   "source": [
    "### Conclusión"
   ]
  },
  {
   "cell_type": "markdown",
   "metadata": {},
   "source": [
    "...\n",
    "\n",
    "...\n",
    "\n",
    "..."
   ]
  },
  {
   "cell_type": "markdown",
   "metadata": {},
   "source": [
    "# 1.2 Análisis de los problemas de calidad de datos"
   ]
  },
  {
   "cell_type": "markdown",
   "metadata": {},
   "source": [
    "...\n",
    "\n",
    "...\n",
    "\n",
    "..."
   ]
  },
  {
   "cell_type": "markdown",
   "metadata": {},
   "source": [
    "### Resumen de problemas encontrados, acciones tomadas:"
   ]
  },
  {
   "cell_type": "markdown",
   "metadata": {},
   "source": [
    "1. [variable] [tipo de problema]: [solución argumentada]\n",
    "\n",
    "1. [variable] [tipo de problema]: [solución argumentada]\n",
    "\n",
    "                    \n",
    "                    "
   ]
  },
  {
   "cell_type": "markdown",
   "metadata": {},
   "source": [
    "# <font color='red'>ENTREGA SEGUNDA PARTE</font> - <font color='blue'> POST-CLASE </font>"
   ]
  },
  {
   "cell_type": "markdown",
   "metadata": {},
   "source": [
    "# 1.3 Valores faltantes de CASA: modelo de regresión lineal usando holdout y forward stepwise"
   ]
  },
  {
   "cell_type": "markdown",
   "metadata": {},
   "source": [
    "...\n",
    "\n",
    "...\n",
    "\n",
    "..."
   ]
  },
  {
   "cell_type": "markdown",
   "metadata": {},
   "source": [
    "# 2. Modelos de clasificación"
   ]
  },
  {
   "cell_type": "markdown",
   "metadata": {},
   "source": [
    "## Puntos a desarrollar:\n",
    "\n",
    "<font color='red'>El objetivo final es identificar los clientes más propensos a irse de la compañía, con el fin de poder realizar campañas de fidelización. Para tal propósito, se ha decidido buscar el mejor modelo entre **K-NN** y **Naïve Bayes**, pero **solo considerando las variables predictivas numéricas**. </font>\n",
    "\n",
    "1. <font color='red'> Establezca el **protocolo de evaluación** y la métrica de evaluación más adecuados para la construcción de los modelos de clasificación (0.3)</font>\n",
    "\n",
    "2. <font color='red'> Construya del mejor modelo **K-NN**, buscando el mejor valor de K (subir hasta un valor de K=25) (1.1)</font>\n",
    "\n",
    "3. <font color='red'> Construya del mejor modelo **Naïve Bayes** (use la clase GaussianNB), buscando el mejor valor del suavizador de Laplace (var_smoothing) (0.7)</font>\n",
    "\n",
    "4. <font color='red'> Compárelos (métricas, matriz de confusión), escoja el mejor, y concluya (0.3)</font>"
   ]
  },
  {
   "cell_type": "markdown",
   "metadata": {},
   "source": [
    "# 2.1 Protocolo de evaluación"
   ]
  },
  {
   "cell_type": "markdown",
   "metadata": {},
   "source": [
    "...\n",
    "\n",
    "...\n",
    "\n",
    "..."
   ]
  },
  {
   "cell_type": "markdown",
   "metadata": {},
   "source": [
    "# 2.2 Modelo K-NN"
   ]
  },
  {
   "cell_type": "markdown",
   "metadata": {},
   "source": [
    "...\n",
    "\n",
    "...\n",
    "\n",
    "..."
   ]
  },
  {
   "cell_type": "markdown",
   "metadata": {},
   "source": [
    "# 2.3 Modelo Naïve Bayes"
   ]
  },
  {
   "cell_type": "markdown",
   "metadata": {},
   "source": [
    "...\n",
    "\n",
    "...\n",
    "\n",
    "..."
   ]
  },
  {
   "cell_type": "markdown",
   "metadata": {},
   "source": [
    "# 2.4 Comparación"
   ]
  },
  {
   "cell_type": "markdown",
   "metadata": {},
   "source": [
    "...\n",
    "\n",
    "...\n",
    "\n",
    "..."
   ]
  }
 ],
 "metadata": {
  "kernelspec": {
   "display_name": "Python 3",
   "language": "python",
   "name": "python3"
  },
  "language_info": {
   "codemirror_mode": {
    "name": "ipython",
    "version": 3
   },
   "file_extension": ".py",
   "mimetype": "text/x-python",
   "name": "python",
   "nbconvert_exporter": "python",
   "pygments_lexer": "ipython3",
   "version": "3.7.6"
  }
 },
 "nbformat": 4,
 "nbformat_minor": 2
}
