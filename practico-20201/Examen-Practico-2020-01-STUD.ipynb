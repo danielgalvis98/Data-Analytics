{
 "cells": [
  {
   "cell_type": "markdown",
   "metadata": {},
   "source": [
    "# Analítica de datos\n",
    "# Examen parcial 1\n",
    "# 2020-01\n",
    "# <font color='red'> Daniel Galvis, A00130540 </font>"
   ]
  },
  {
   "cell_type": "markdown",
   "metadata": {},
   "source": [
    "El dataset que deben analizar contiene los registros del histórico de las personas a las que se les ha otorgado un crédito financiero, indicando quienes pudieron pagarlo sin problemas y quienes no.\n",
    "\n",
    "La idea es poder predecir, utilizando modelos de aprendizaje supervisado (KNN y Naïve Bayes) y las variables independientes disponibles qué aspirantes a un crédito tienen mas o menos riesgo de pagar.\n",
    "\n",
    "Las variables de la hoja de datos son las siguientes:\n",
    "- ID: El ID único del cliente en el banco. Variable numérica positiva. \n",
    "- PudoPagar: Indica si el cliente ha podido pagar el crédito sin problemas (1) o no (0). Variable categórica binaria.\n",
    "- Estudiante: Indica si el cliente es estudiante (Si) o no lo es (No). Variable categórica binaria.\n",
    "- Deuda: Indica la cantidad de dinero que aún adeuda el cliente correspondiente a préstamos. Valores numéricos positivos o en cero.\n",
    "- Cuenta: Indica el dinero que tiene en la cuenta del banco. Valores numéricos. Estas cuentas no permiten tener saldo en rojo."
   ]
  },
  {
   "cell_type": "markdown",
   "metadata": {},
   "source": [
    "## Entendimiento de los datos, limpieza"
   ]
  },
  {
   "cell_type": "markdown",
   "metadata": {},
   "source": [
    "El archivo \"creditos_examen.csv\" contiene el dataset que tienen que analizar.\n",
    "Se recomienda abrirlo primero en un lector de archivos planos para entender preliminarmente su formato y así poderlo cargar adecuadamente con Python.\n",
    "\n",
    "Teniendo en cuenta el tipo de problema en cuestión (clasificación o regresión), realice un análisis exploratorio de los datos estableciendo el baseline, verificando la calidad de los datos (tipos de las variables, valores inválidos, excepciones, valores faltantes, etc.), utilizando gráficos para poder entender las distribuciones de los datos e identificar posibles problemas."
   ]
  },
  {
   "cell_type": "markdown",
   "metadata": {},
   "source": [
    "#### Puntos a desarrollar\n",
    "\n",
    "- <font color='red'>1. Limpieza de datos: Exploren los datos e identifiquen problemas e inconsistencias del dataset teniendo en cuenta el diccionario de datos y del contexto. Arreglen los problemas identificados (solo después de identificarlos todos), argumentando sus decisiones. (2.0)</font>\n",
    "- <font color='red'>2. Obtengan el modelo de referencia (Baseline), interprételo y calcule su accuracy. (0.3)</font>"
   ]
  },
  {
   "cell_type": "markdown",
   "metadata": {},
   "source": [
    "## Modelamiento con K-NN y Naïve Bayes"
   ]
  },
  {
   "cell_type": "markdown",
   "metadata": {},
   "source": [
    "#### Puntos a desarrollar:\n",
    "\n",
    "<font color='red'>Entrene modelos de clasificación siguiendo el siguiente protocolo:</font>\n",
    "- <font color='red'>3. Haga un holdout estratificado 70% training - 30% test sobre el dataset solo incluyendo las variables numéricas. No olvide normalizar los datos correctamente (0.3)</font>\n",
    "- <font color='red'>4. Sobre el training set siga un protocolo de 5 fold cross validation para buscar los mejores valores de los parámetros de un modelo K-NN, teniendo en cuenta el Kappa. Evaluar un modelo global, otro para estudiantes y otro para no estudiantes. Concluir (0.9)</font>\n",
    "- <font color='red'>5. Sobre el training set siga un protocolo de 5 fold cross validation para buscar los mejores valores de los parámetros de un modelo NaïveBayes, tenga en cuenta utilizar las distribuciones adecuadas a los tipos de variables predictivas. Repetir el proceso de los tres modelos. (0.9) Si quisieramos incluir el efecto de la variable Estudiante en el modelo entrenado con las variables numéricas sin utilizar sklearn, que tenemos que hacer (0.2)</font>\n",
    "- <font color='red'>6. Sobre el test set compare los dos modelos (K-NN y NB) y escoja el mejor según el Kappa (0.4)</font>"
   ]
  },
  {
   "cell_type": "markdown",
   "metadata": {},
   "source": [
    "# Desarrollo de los puntos"
   ]
  },
  {
   "cell_type": "code",
   "execution_count": 1,
   "metadata": {},
   "outputs": [],
   "source": [
    "import numpy as np #operaciones matriciales y con vectores\n",
    "import pandas as pd #tratamiento de datos\n",
    "import matplotlib.pyplot as plt #gráficos\n",
    "import seaborn as sns\n",
    "#...\n",
    "#...\n",
    "#..."
   ]
  },
  {
   "cell_type": "code",
   "execution_count": 2,
   "metadata": {},
   "outputs": [],
   "source": [
    "df = pd.read_csv('creditos_examen.csv',';')"
   ]
  },
  {
   "cell_type": "markdown",
   "metadata": {},
   "source": [
    "..."
   ]
  },
  {
   "cell_type": "markdown",
   "metadata": {},
   "source": [
    "..."
   ]
  },
  {
   "cell_type": "markdown",
   "metadata": {},
   "source": [
    "# 1. Limpieza de datos"
   ]
  },
  {
   "cell_type": "markdown",
   "metadata": {},
   "source": [
    "## Identificación de problemas de datos."
   ]
  },
  {
   "cell_type": "markdown",
   "metadata": {},
   "source": [
    "Primero, veremos la información general sobre los datos (su forma, primeros y últimos datos, descripción e información)"
   ]
  },
  {
   "cell_type": "code",
   "execution_count": 3,
   "metadata": {},
   "outputs": [
    {
     "data": {
      "text/plain": [
       "(10002, 5)"
      ]
     },
     "execution_count": 3,
     "metadata": {},
     "output_type": "execute_result"
    }
   ],
   "source": [
    "df.shape"
   ]
  },
  {
   "cell_type": "code",
   "execution_count": 4,
   "metadata": {},
   "outputs": [
    {
     "data": {
      "text/html": [
       "<div>\n",
       "<style scoped>\n",
       "    .dataframe tbody tr th:only-of-type {\n",
       "        vertical-align: middle;\n",
       "    }\n",
       "\n",
       "    .dataframe tbody tr th {\n",
       "        vertical-align: top;\n",
       "    }\n",
       "\n",
       "    .dataframe thead th {\n",
       "        text-align: right;\n",
       "    }\n",
       "</style>\n",
       "<table border=\"1\" class=\"dataframe\">\n",
       "  <thead>\n",
       "    <tr style=\"text-align: right;\">\n",
       "      <th></th>\n",
       "      <th>ID</th>\n",
       "      <th>PudoPagar</th>\n",
       "      <th>Estudiante</th>\n",
       "      <th>Deuda</th>\n",
       "      <th>Cuenta</th>\n",
       "    </tr>\n",
       "  </thead>\n",
       "  <tbody>\n",
       "    <tr>\n",
       "      <th>0</th>\n",
       "      <td>1</td>\n",
       "      <td>0</td>\n",
       "      <td>No</td>\n",
       "      <td>4436163</td>\n",
       "      <td>3647632</td>\n",
       "    </tr>\n",
       "    <tr>\n",
       "      <th>1</th>\n",
       "      <td>2</td>\n",
       "      <td>0</td>\n",
       "      <td>Si</td>\n",
       "      <td>1210613</td>\n",
       "      <td>4085902</td>\n",
       "    </tr>\n",
       "    <tr>\n",
       "      <th>2</th>\n",
       "      <td>3</td>\n",
       "      <td>0</td>\n",
       "      <td>No</td>\n",
       "      <td>3176714</td>\n",
       "      <td>5367746</td>\n",
       "    </tr>\n",
       "    <tr>\n",
       "      <th>3</th>\n",
       "      <td>4</td>\n",
       "      <td>0</td>\n",
       "      <td>No</td>\n",
       "      <td>3570449</td>\n",
       "      <td>2646253</td>\n",
       "    </tr>\n",
       "    <tr>\n",
       "      <th>4</th>\n",
       "      <td>5</td>\n",
       "      <td>0</td>\n",
       "      <td>No</td>\n",
       "      <td>3846350</td>\n",
       "      <td>3928279</td>\n",
       "    </tr>\n",
       "  </tbody>\n",
       "</table>\n",
       "</div>"
      ],
      "text/plain": [
       "   ID  PudoPagar Estudiante    Deuda   Cuenta\n",
       "0   1          0         No  4436163  3647632\n",
       "1   2          0         Si  1210613  4085902\n",
       "2   3          0         No  3176714  5367746\n",
       "3   4          0         No  3570449  2646253\n",
       "4   5          0         No  3846350  3928279"
      ]
     },
     "execution_count": 4,
     "metadata": {},
     "output_type": "execute_result"
    }
   ],
   "source": [
    "df.head()"
   ]
  },
  {
   "cell_type": "code",
   "execution_count": 5,
   "metadata": {},
   "outputs": [
    {
     "data": {
      "text/html": [
       "<div>\n",
       "<style scoped>\n",
       "    .dataframe tbody tr th:only-of-type {\n",
       "        vertical-align: middle;\n",
       "    }\n",
       "\n",
       "    .dataframe tbody tr th {\n",
       "        vertical-align: top;\n",
       "    }\n",
       "\n",
       "    .dataframe thead th {\n",
       "        text-align: right;\n",
       "    }\n",
       "</style>\n",
       "<table border=\"1\" class=\"dataframe\">\n",
       "  <thead>\n",
       "    <tr style=\"text-align: right;\">\n",
       "      <th></th>\n",
       "      <th>ID</th>\n",
       "      <th>PudoPagar</th>\n",
       "      <th>Estudiante</th>\n",
       "      <th>Deuda</th>\n",
       "      <th>Cuenta</th>\n",
       "    </tr>\n",
       "  </thead>\n",
       "  <tbody>\n",
       "    <tr>\n",
       "      <th>9997</th>\n",
       "      <td>9996</td>\n",
       "      <td>0</td>\n",
       "      <td>No</td>\n",
       "      <td>5299238</td>\n",
       "      <td>3557775</td>\n",
       "    </tr>\n",
       "    <tr>\n",
       "      <th>9998</th>\n",
       "      <td>9997</td>\n",
       "      <td>0</td>\n",
       "      <td>No</td>\n",
       "      <td>1966072</td>\n",
       "      <td>3789815</td>\n",
       "    </tr>\n",
       "    <tr>\n",
       "      <th>9999</th>\n",
       "      <td>9998</td>\n",
       "      <td>0</td>\n",
       "      <td>No</td>\n",
       "      <td>5863616</td>\n",
       "      <td>4227060</td>\n",
       "    </tr>\n",
       "    <tr>\n",
       "      <th>10000</th>\n",
       "      <td>9999</td>\n",
       "      <td>0</td>\n",
       "      <td>No</td>\n",
       "      <td>3666911</td>\n",
       "      <td>7845045</td>\n",
       "    </tr>\n",
       "    <tr>\n",
       "      <th>10001</th>\n",
       "      <td>10000</td>\n",
       "      <td>0</td>\n",
       "      <td>Si</td>\n",
       "      <td>1686295</td>\n",
       "      <td>1004611</td>\n",
       "    </tr>\n",
       "  </tbody>\n",
       "</table>\n",
       "</div>"
      ],
      "text/plain": [
       "          ID  PudoPagar Estudiante    Deuda   Cuenta\n",
       "9997    9996          0         No  5299238  3557775\n",
       "9998    9997          0         No  1966072  3789815\n",
       "9999    9998          0         No  5863616  4227060\n",
       "10000   9999          0         No  3666911  7845045\n",
       "10001  10000          0         Si  1686295  1004611"
      ]
     },
     "execution_count": 5,
     "metadata": {},
     "output_type": "execute_result"
    }
   ],
   "source": [
    "df.tail()"
   ]
  },
  {
   "cell_type": "markdown",
   "metadata": {},
   "source": [
    "Desde este punto podemos darnos cuenta que aparentemente hay un problema con los ids, ya que hay 10002 filas, pero el contador de id solo llega hasta 10000"
   ]
  },
  {
   "cell_type": "code",
   "execution_count": 6,
   "metadata": {},
   "outputs": [
    {
     "data": {
      "text/html": [
       "<div>\n",
       "<style scoped>\n",
       "    .dataframe tbody tr th:only-of-type {\n",
       "        vertical-align: middle;\n",
       "    }\n",
       "\n",
       "    .dataframe tbody tr th {\n",
       "        vertical-align: top;\n",
       "    }\n",
       "\n",
       "    .dataframe thead th {\n",
       "        text-align: right;\n",
       "    }\n",
       "</style>\n",
       "<table border=\"1\" class=\"dataframe\">\n",
       "  <thead>\n",
       "    <tr style=\"text-align: right;\">\n",
       "      <th></th>\n",
       "      <th>ID</th>\n",
       "      <th>PudoPagar</th>\n",
       "      <th>Estudiante</th>\n",
       "      <th>Deuda</th>\n",
       "      <th>Cuenta</th>\n",
       "    </tr>\n",
       "  </thead>\n",
       "  <tbody>\n",
       "    <tr>\n",
       "      <th>count</th>\n",
       "      <td>10002.000000</td>\n",
       "      <td>10002.000000</td>\n",
       "      <td>9998</td>\n",
       "      <td>1.000200e+04</td>\n",
       "      <td>1.000200e+04</td>\n",
       "    </tr>\n",
       "    <tr>\n",
       "      <th>unique</th>\n",
       "      <td>NaN</td>\n",
       "      <td>NaN</td>\n",
       "      <td>4</td>\n",
       "      <td>NaN</td>\n",
       "      <td>NaN</td>\n",
       "    </tr>\n",
       "    <tr>\n",
       "      <th>top</th>\n",
       "      <td>NaN</td>\n",
       "      <td>NaN</td>\n",
       "      <td>No</td>\n",
       "      <td>NaN</td>\n",
       "      <td>NaN</td>\n",
       "    </tr>\n",
       "    <tr>\n",
       "      <th>freq</th>\n",
       "      <td>NaN</td>\n",
       "      <td>NaN</td>\n",
       "      <td>7050</td>\n",
       "      <td>NaN</td>\n",
       "      <td>NaN</td>\n",
       "    </tr>\n",
       "    <tr>\n",
       "      <th>mean</th>\n",
       "      <td>5000.379324</td>\n",
       "      <td>0.033293</td>\n",
       "      <td>NaN</td>\n",
       "      <td>3.036624e+06</td>\n",
       "      <td>1.545269e+07</td>\n",
       "    </tr>\n",
       "    <tr>\n",
       "      <th>std</th>\n",
       "      <td>2887.127481</td>\n",
       "      <td>0.179410</td>\n",
       "      <td>NaN</td>\n",
       "      <td>7.028235e+07</td>\n",
       "      <td>1.019546e+09</td>\n",
       "    </tr>\n",
       "    <tr>\n",
       "      <th>min</th>\n",
       "      <td>-3.000000</td>\n",
       "      <td>0.000000</td>\n",
       "      <td>NaN</td>\n",
       "      <td>-4.288864e+09</td>\n",
       "      <td>-2.247063e+07</td>\n",
       "    </tr>\n",
       "    <tr>\n",
       "      <th>25%</th>\n",
       "      <td>2500.250000</td>\n",
       "      <td>0.000000</td>\n",
       "      <td>NaN</td>\n",
       "      <td>1.823657e+06</td>\n",
       "      <td>2.408188e+06</td>\n",
       "    </tr>\n",
       "    <tr>\n",
       "      <th>50%</th>\n",
       "      <td>5000.500000</td>\n",
       "      <td>0.000000</td>\n",
       "      <td>NaN</td>\n",
       "      <td>3.209805e+06</td>\n",
       "      <td>4.118185e+06</td>\n",
       "    </tr>\n",
       "    <tr>\n",
       "      <th>75%</th>\n",
       "      <td>7500.750000</td>\n",
       "      <td>0.000000</td>\n",
       "      <td>NaN</td>\n",
       "      <td>4.281461e+06</td>\n",
       "      <td>5.833152e+06</td>\n",
       "    </tr>\n",
       "    <tr>\n",
       "      <th>max</th>\n",
       "      <td>10000.000000</td>\n",
       "      <td>1.000000</td>\n",
       "      <td>NaN</td>\n",
       "      <td>4.299358e+09</td>\n",
       "      <td>1.016613e+11</td>\n",
       "    </tr>\n",
       "  </tbody>\n",
       "</table>\n",
       "</div>"
      ],
      "text/plain": [
       "                  ID     PudoPagar Estudiante         Deuda        Cuenta\n",
       "count   10002.000000  10002.000000       9998  1.000200e+04  1.000200e+04\n",
       "unique           NaN           NaN          4           NaN           NaN\n",
       "top              NaN           NaN         No           NaN           NaN\n",
       "freq             NaN           NaN       7050           NaN           NaN\n",
       "mean     5000.379324      0.033293        NaN  3.036624e+06  1.545269e+07\n",
       "std      2887.127481      0.179410        NaN  7.028235e+07  1.019546e+09\n",
       "min        -3.000000      0.000000        NaN -4.288864e+09 -2.247063e+07\n",
       "25%      2500.250000      0.000000        NaN  1.823657e+06  2.408188e+06\n",
       "50%      5000.500000      0.000000        NaN  3.209805e+06  4.118185e+06\n",
       "75%      7500.750000      0.000000        NaN  4.281461e+06  5.833152e+06\n",
       "max     10000.000000      1.000000        NaN  4.299358e+09  1.016613e+11"
      ]
     },
     "execution_count": 6,
     "metadata": {},
     "output_type": "execute_result"
    }
   ],
   "source": [
    "df.describe(include='all')"
   ]
  },
  {
   "cell_type": "code",
   "execution_count": 7,
   "metadata": {},
   "outputs": [
    {
     "name": "stdout",
     "output_type": "stream",
     "text": [
      "<class 'pandas.core.frame.DataFrame'>\n",
      "RangeIndex: 10002 entries, 0 to 10001\n",
      "Data columns (total 5 columns):\n",
      "ID            10002 non-null int64\n",
      "PudoPagar     10002 non-null int64\n",
      "Estudiante    9998 non-null object\n",
      "Deuda         10002 non-null int64\n",
      "Cuenta        10002 non-null int64\n",
      "dtypes: int64(4), object(1)\n",
      "memory usage: 390.8+ KB\n"
     ]
    }
   ],
   "source": [
    "df.info()"
   ]
  },
  {
   "cell_type": "markdown",
   "metadata": {},
   "source": [
    "A partir del resumen de los datos, se encuentran más problemas: estudiante tiene valores nulos, estudiante tiene 4 valores únicos (cuando solo deberían ser 2), \"PudoPagar\" está representada como un entero, cuando debería de ser categórica (binaria), id tiene valores negativos (que seguramente explica el problema que se mencionó anteriormente), y tanto deuda como cuenta tiene valores negativos (cuando en ninguno se permiten)."
   ]
  },
  {
   "cell_type": "markdown",
   "metadata": {},
   "source": [
    "Con estudiante, veamos cuales son los 4 valores que está tomando:"
   ]
  },
  {
   "cell_type": "code",
   "execution_count": 8,
   "metadata": {},
   "outputs": [
    {
     "data": {
      "image/png": "[encoded data removed]",
      "text/plain": [
       "<Figure size 432x288 with 1 Axes>"
      ]
     },
     "metadata": {
      "needs_background": "light"
     },
     "output_type": "display_data"
    }
   ],
   "source": [
    "fig, ax = plt.subplots()\n",
    "sns.countplot(x=df.columns[2], data=df)\n",
    "plt.title(df.columns[2])\n",
    "\n",
    "plt.show()"
   ]
  },
  {
   "cell_type": "code",
   "execution_count": 9,
   "metadata": {},
   "outputs": [
    {
     "data": {
      "text/html": [
       "<div>\n",
       "<style scoped>\n",
       "    .dataframe tbody tr th:only-of-type {\n",
       "        vertical-align: middle;\n",
       "    }\n",
       "\n",
       "    .dataframe tbody tr th {\n",
       "        vertical-align: top;\n",
       "    }\n",
       "\n",
       "    .dataframe thead th {\n",
       "        text-align: right;\n",
       "    }\n",
       "</style>\n",
       "<table border=\"1\" class=\"dataframe\">\n",
       "  <thead>\n",
       "    <tr style=\"text-align: right;\">\n",
       "      <th></th>\n",
       "      <th>ID</th>\n",
       "      <th>PudoPagar</th>\n",
       "      <th>Estudiante</th>\n",
       "      <th>Deuda</th>\n",
       "      <th>Cuenta</th>\n",
       "    </tr>\n",
       "  </thead>\n",
       "  <tbody>\n",
       "    <tr>\n",
       "      <th>4691</th>\n",
       "      <td>4692</td>\n",
       "      <td>0</td>\n",
       "      <td>1</td>\n",
       "      <td>1370247</td>\n",
       "      <td>1158854</td>\n",
       "    </tr>\n",
       "    <tr>\n",
       "      <th>6485</th>\n",
       "      <td>6486</td>\n",
       "      <td>0</td>\n",
       "      <td>1</td>\n",
       "      <td>2432606</td>\n",
       "      <td>4800570</td>\n",
       "    </tr>\n",
       "    <tr>\n",
       "      <th>6930</th>\n",
       "      <td>6930</td>\n",
       "      <td>0</td>\n",
       "      <td>0</td>\n",
       "      <td>4958587</td>\n",
       "      <td>1493598</td>\n",
       "    </tr>\n",
       "    <tr>\n",
       "      <th>7994</th>\n",
       "      <td>7994</td>\n",
       "      <td>0</td>\n",
       "      <td>0</td>\n",
       "      <td>3467996</td>\n",
       "      <td>1855909</td>\n",
       "    </tr>\n",
       "    <tr>\n",
       "      <th>7995</th>\n",
       "      <td>7995</td>\n",
       "      <td>0</td>\n",
       "      <td>1</td>\n",
       "      <td>1920050</td>\n",
       "      <td>7190277</td>\n",
       "    </tr>\n",
       "    <tr>\n",
       "      <th>8610</th>\n",
       "      <td>8609</td>\n",
       "      <td>0</td>\n",
       "      <td>0</td>\n",
       "      <td>4250341</td>\n",
       "      <td>4646486</td>\n",
       "    </tr>\n",
       "  </tbody>\n",
       "</table>\n",
       "</div>"
      ],
      "text/plain": [
       "        ID  PudoPagar Estudiante    Deuda   Cuenta\n",
       "4691  4692          0          1  1370247  1158854\n",
       "6485  6486          0          1  2432606  4800570\n",
       "6930  6930          0          0  4958587  1493598\n",
       "7994  7994          0          0  3467996  1855909\n",
       "7995  7995          0          1  1920050  7190277\n",
       "8610  8609          0          0  4250341  4646486"
      ]
     },
     "execution_count": 9,
     "metadata": {},
     "output_type": "execute_result"
    }
   ],
   "source": [
    "df[(df['Estudiante'] == '1') | (df['Estudiante'] == '0')]"
   ]
  },
  {
   "cell_type": "markdown",
   "metadata": {},
   "source": [
    "Vemos que hay 3 valores en los que estudiante tiene como valor \"1\" y tres en los que tiene valor \"0\". Todo el resto tiene como valor \"Si\" o \"No\""
   ]
  },
  {
   "cell_type": "markdown",
   "metadata": {},
   "source": [
    "Ahora, se harán boxplots sobre las variables numéricas para encontrar valores atípicos"
   ]
  },
  {
   "cell_type": "code",
   "execution_count": 10,
   "metadata": {},
   "outputs": [
    {
     "data": {
      "image/png": "[encoded data removed]",
      "text/plain": [
       "<Figure size 1080x720 with 2 Axes>"
      ]
     },
     "metadata": {
      "needs_background": "light"
     },
     "output_type": "display_data"
    }
   ],
   "source": [
    "fig = plt.figure(figsize=(15,10))\n",
    "i=1\n",
    "\n",
    "for var_num in df.columns[3:]:\n",
    "    ax = fig.add_subplot(2, 1, i) #Defino una tabla de 2 filas por 1 columnas, agrego el i-ésimo plot\n",
    "    sns.boxplot(y=var_num, data=df)\n",
    "    plt.title(var_num)\n",
    "    i+=1"
   ]
  },
  {
   "cell_type": "markdown",
   "metadata": {},
   "source": [
    "Son claros los 2 valores atípicos en la variable deuda (El negativo ya es considerado inváido), y el atípico en Cuenta (Posiblemente 2, nos daremos cuenta al borrar el más grande)."
   ]
  },
  {
   "cell_type": "markdown",
   "metadata": {},
   "source": [
    "Algo más a verificar, es que la columna id no tenga valores repetidos, ya que el id es único:"
   ]
  },
  {
   "cell_type": "code",
   "execution_count": 11,
   "metadata": {},
   "outputs": [
    {
     "data": {
      "text/plain": [
       "False"
      ]
     },
     "execution_count": 11,
     "metadata": {},
     "output_type": "execute_result"
    }
   ],
   "source": [
    "df['ID'].is_unique"
   ]
  },
  {
   "cell_type": "markdown",
   "metadata": {},
   "source": [
    "Vemos que el método anterior retorna False, lo que quiere decir que hay ID's repetidos, cuando se supone que es único"
   ]
  },
  {
   "cell_type": "code",
   "execution_count": 12,
   "metadata": {},
   "outputs": [
    {
     "data": {
      "text/html": [
       "<div>\n",
       "<style scoped>\n",
       "    .dataframe tbody tr th:only-of-type {\n",
       "        vertical-align: middle;\n",
       "    }\n",
       "\n",
       "    .dataframe tbody tr th {\n",
       "        vertical-align: top;\n",
       "    }\n",
       "\n",
       "    .dataframe thead th {\n",
       "        text-align: right;\n",
       "    }\n",
       "</style>\n",
       "<table border=\"1\" class=\"dataframe\">\n",
       "  <thead>\n",
       "    <tr style=\"text-align: right;\">\n",
       "      <th></th>\n",
       "      <th>ID</th>\n",
       "      <th>PudoPagar</th>\n",
       "      <th>Estudiante</th>\n",
       "      <th>Deuda</th>\n",
       "      <th>Cuenta</th>\n",
       "    </tr>\n",
       "  </thead>\n",
       "  <tbody>\n",
       "    <tr>\n",
       "      <th>1423</th>\n",
       "      <td>1424</td>\n",
       "      <td>0</td>\n",
       "      <td>No</td>\n",
       "      <td>3640304</td>\n",
       "      <td>7574816</td>\n",
       "    </tr>\n",
       "    <tr>\n",
       "      <th>8143</th>\n",
       "      <td>8142</td>\n",
       "      <td>0</td>\n",
       "      <td>Si</td>\n",
       "      <td>2428223</td>\n",
       "      <td>1136586</td>\n",
       "    </tr>\n",
       "  </tbody>\n",
       "</table>\n",
       "</div>"
      ],
      "text/plain": [
       "        ID  PudoPagar Estudiante    Deuda   Cuenta\n",
       "1423  1424          0         No  3640304  7574816\n",
       "8143  8142          0         Si  2428223  1136586"
      ]
     },
     "execution_count": 12,
     "metadata": {},
     "output_type": "execute_result"
    }
   ],
   "source": [
    "df[df.duplicated()]"
   ]
  },
  {
   "cell_type": "markdown",
   "metadata": {},
   "source": [
    "Vemos que hay 2 registros que se repiten (Los que tienen id 1424 y 8142)"
   ]
  },
  {
   "cell_type": "code",
   "execution_count": 13,
   "metadata": {},
   "outputs": [
    {
     "data": {
      "text/html": [
       "<div>\n",
       "<style scoped>\n",
       "    .dataframe tbody tr th:only-of-type {\n",
       "        vertical-align: middle;\n",
       "    }\n",
       "\n",
       "    .dataframe tbody tr th {\n",
       "        vertical-align: top;\n",
       "    }\n",
       "\n",
       "    .dataframe thead th {\n",
       "        text-align: right;\n",
       "    }\n",
       "</style>\n",
       "<table border=\"1\" class=\"dataframe\">\n",
       "  <thead>\n",
       "    <tr style=\"text-align: right;\">\n",
       "      <th></th>\n",
       "      <th>ID</th>\n",
       "      <th>PudoPagar</th>\n",
       "      <th>Estudiante</th>\n",
       "      <th>Deuda</th>\n",
       "      <th>Cuenta</th>\n",
       "    </tr>\n",
       "  </thead>\n",
       "  <tbody>\n",
       "    <tr>\n",
       "      <th>499</th>\n",
       "      <td>500</td>\n",
       "      <td>0</td>\n",
       "      <td>Si</td>\n",
       "      <td>1644010</td>\n",
       "      <td>4827937</td>\n",
       "    </tr>\n",
       "    <tr>\n",
       "      <th>500</th>\n",
       "      <td>500</td>\n",
       "      <td>0</td>\n",
       "      <td>Si</td>\n",
       "      <td>2048960</td>\n",
       "      <td>9342700</td>\n",
       "    </tr>\n",
       "    <tr>\n",
       "      <th>1423</th>\n",
       "      <td>1424</td>\n",
       "      <td>0</td>\n",
       "      <td>No</td>\n",
       "      <td>3640304</td>\n",
       "      <td>7574816</td>\n",
       "    </tr>\n",
       "    <tr>\n",
       "      <th>8143</th>\n",
       "      <td>8142</td>\n",
       "      <td>0</td>\n",
       "      <td>Si</td>\n",
       "      <td>2428223</td>\n",
       "      <td>1136586</td>\n",
       "    </tr>\n",
       "  </tbody>\n",
       "</table>\n",
       "</div>"
      ],
      "text/plain": [
       "        ID  PudoPagar Estudiante    Deuda   Cuenta\n",
       "499    500          0         Si  1644010  4827937\n",
       "500    500          0         Si  2048960  9342700\n",
       "1423  1424          0         No  3640304  7574816\n",
       "8143  8142          0         Si  2428223  1136586"
      ]
     },
     "execution_count": 13,
     "metadata": {},
     "output_type": "execute_result"
    }
   ],
   "source": [
    "df[df.duplicated(subset='ID')]"
   ]
  },
  {
   "cell_type": "markdown",
   "metadata": {},
   "source": [
    "Por otro lado, aparte de los 2 registros mencionados arriba, hay 2 registros con 'ID' 500, pero con valores diferentes para Deuda y Cuenta"
   ]
  },
  {
   "cell_type": "markdown",
   "metadata": {},
   "source": [
    "Resumen de los problemas encontrados:\n",
    "- Se encontro que hay ids con valores negativos. Para solucionar este problema se decidió que eliminar la columna id, ya que considero que no es necesaria para hacer la predicción, y que incluso dejarla puede hacer ruido que perjudique las prediccionnes. El id no aporta nada a saber si alguien va a poder pagar el crédito sin problemas según sus caraterísticas, ya que es simplemente un identificador de personas.\n",
    "- Se encontro que estudiante tiene 4 valores nulos. Para solucionar este problema se decidió que se eliminaran estos registros, ya que considero que no se puede inferir que significa una variable nula, e igualmente son solo 4 datos los que se borrarán, no debería de ser un problema.\n",
    "- Se encontro que estudiante tiene 4 tipo de valores, cuando solo deberían ser 2 (\"Si\" o \"No\"). Para solucionar este problema se decidió que cuando tenga valor '1' será considerado como \"Sí\", y cuando tenga valor '0' será considerado como \"No\", ya que considero que es una convención que, cuando se trata de variables booleanas, el 1 sea tratado como True y el 0 como False, así que muy seguramente esto es lo que significan estos valores.\n",
    "- Se encontro que PudoPagar es de tipo entero, cuando debería de ser binario. Para solucionar este problema se decidió que se convertirá a tipo binario, ya que considero que se leyó como entero debido a que sus valores toman '1' o '0', pero lo que en verdad representan es 'true' y 'false'\n",
    "- Se encontro que la variable deuda tiene valores negativos. Para solucionar este problema se decidió que se tomará su valor absoluto, ya que considero que lo más probable es que haya sido un error de tipeo el que lo volvió negativo, en caso dado de que el valor absoluto tenga sentido\n",
    "- Se encontro que la variable cuenta tiene valores negativos. Para solucionar este problema se decidió que lo mismo que con deuda, por la misma razón\n",
    "- Se encontro que la variable deuda tiene valores atípicos. Para solucionar este problema se decidió que se borrarán los registros donde aparecen estos valores atípicos, ya que considero que son muy pocos pero pueden dañar el entrenamiento de los modelos\n",
    "- Se encontro que la variable Cuenta tiene valores atípicos. Para solucionar este problema se decidió que borrarán los registros donde aparecen estos valores atípicos, ya que considero que son muy pocos pero pueden dañar el entrenamiento de los modelos\n",
    "- Se encontro que la variable ID tiene valores repetidos, cuando debería de ser único, aunque otras columnas sean diferentes. Para solucionar este problema se decidió que se ignorará la columna ID, ya que esta columna no ayuda a hacer la predicción, seguramente esta duplicación del id fue algún error de tipeo o algo parecido.\n",
    "- Se encontro que hay filas duplicadas (incluyendo el id). Para solucionar este problema se decidió que se eliminarán los registros duplicados, ya que considero que lo más seguro es que estén ahí por errar, y dejar estos registros duplicados puede llegar a sesgar el modelo. De igual forma, solamente son 2 registros."
   ]
  },
  {
   "cell_type": "markdown",
   "metadata": {},
   "source": [
    "## Corrección de problemas de datos."
   ]
  },
  {
   "cell_type": "code",
   "execution_count": 14,
   "metadata": {},
   "outputs": [],
   "source": [
    "del df['ID']"
   ]
  },
  {
   "cell_type": "code",
   "execution_count": 15,
   "metadata": {},
   "outputs": [],
   "source": [
    "df = df.dropna()"
   ]
  },
  {
   "cell_type": "code",
   "execution_count": 16,
   "metadata": {},
   "outputs": [],
   "source": [
    "df['PudoPagar'] = df['PudoPagar'].astype('bool')"
   ]
  },
  {
   "cell_type": "code",
   "execution_count": 17,
   "metadata": {},
   "outputs": [],
   "source": [
    "df['Estudiante'] = df['Estudiante'].replace('0','No')\n",
    "df['Estudiante'] = df['Estudiante'].replace('1', 'Si')"
   ]
  },
  {
   "cell_type": "code",
   "execution_count": 18,
   "metadata": {},
   "outputs": [],
   "source": [
    "df['Deuda'] = df['Deuda'].abs()\n",
    "df ['Cuenta'] = df['Cuenta'].abs()"
   ]
  },
  {
   "cell_type": "code",
   "execution_count": 19,
   "metadata": {},
   "outputs": [],
   "source": [
    "df = df[(df['Deuda'] < 2000000000)]\n",
    "df = df[(df['Cuenta'] < 100000000000)]"
   ]
  },
  {
   "cell_type": "code",
   "execution_count": 20,
   "metadata": {},
   "outputs": [],
   "source": [
    "df = df.drop_duplicates()"
   ]
  },
  {
   "cell_type": "markdown",
   "metadata": {},
   "source": [
    "Acá ya se realizó la limpieza que se especificó en el punto anterior, se volverá a hacer un repaso sobre los datos para verificar que todo esté bien:"
   ]
  },
  {
   "cell_type": "code",
   "execution_count": 21,
   "metadata": {},
   "outputs": [
    {
     "data": {
      "text/html": [
       "<div>\n",
       "<style scoped>\n",
       "    .dataframe tbody tr th:only-of-type {\n",
       "        vertical-align: middle;\n",
       "    }\n",
       "\n",
       "    .dataframe tbody tr th {\n",
       "        vertical-align: top;\n",
       "    }\n",
       "\n",
       "    .dataframe thead th {\n",
       "        text-align: right;\n",
       "    }\n",
       "</style>\n",
       "<table border=\"1\" class=\"dataframe\">\n",
       "  <thead>\n",
       "    <tr style=\"text-align: right;\">\n",
       "      <th></th>\n",
       "      <th>PudoPagar</th>\n",
       "      <th>Estudiante</th>\n",
       "      <th>Deuda</th>\n",
       "      <th>Cuenta</th>\n",
       "    </tr>\n",
       "  </thead>\n",
       "  <tbody>\n",
       "    <tr>\n",
       "      <th>0</th>\n",
       "      <td>False</td>\n",
       "      <td>No</td>\n",
       "      <td>4436163</td>\n",
       "      <td>3647632</td>\n",
       "    </tr>\n",
       "    <tr>\n",
       "      <th>1</th>\n",
       "      <td>False</td>\n",
       "      <td>Si</td>\n",
       "      <td>1210613</td>\n",
       "      <td>4085902</td>\n",
       "    </tr>\n",
       "    <tr>\n",
       "      <th>2</th>\n",
       "      <td>False</td>\n",
       "      <td>No</td>\n",
       "      <td>3176714</td>\n",
       "      <td>5367746</td>\n",
       "    </tr>\n",
       "    <tr>\n",
       "      <th>3</th>\n",
       "      <td>False</td>\n",
       "      <td>No</td>\n",
       "      <td>3570449</td>\n",
       "      <td>2646253</td>\n",
       "    </tr>\n",
       "    <tr>\n",
       "      <th>4</th>\n",
       "      <td>False</td>\n",
       "      <td>No</td>\n",
       "      <td>3846350</td>\n",
       "      <td>3928279</td>\n",
       "    </tr>\n",
       "  </tbody>\n",
       "</table>\n",
       "</div>"
      ],
      "text/plain": [
       "   PudoPagar Estudiante    Deuda   Cuenta\n",
       "0      False         No  4436163  3647632\n",
       "1      False         Si  1210613  4085902\n",
       "2      False         No  3176714  5367746\n",
       "3      False         No  3570449  2646253\n",
       "4      False         No  3846350  3928279"
      ]
     },
     "execution_count": 21,
     "metadata": {},
     "output_type": "execute_result"
    }
   ],
   "source": [
    "df.head()"
   ]
  },
  {
   "cell_type": "code",
   "execution_count": 22,
   "metadata": {},
   "outputs": [
    {
     "data": {
      "text/html": [
       "<div>\n",
       "<style scoped>\n",
       "    .dataframe tbody tr th:only-of-type {\n",
       "        vertical-align: middle;\n",
       "    }\n",
       "\n",
       "    .dataframe tbody tr th {\n",
       "        vertical-align: top;\n",
       "    }\n",
       "\n",
       "    .dataframe thead th {\n",
       "        text-align: right;\n",
       "    }\n",
       "</style>\n",
       "<table border=\"1\" class=\"dataframe\">\n",
       "  <thead>\n",
       "    <tr style=\"text-align: right;\">\n",
       "      <th></th>\n",
       "      <th>PudoPagar</th>\n",
       "      <th>Estudiante</th>\n",
       "      <th>Deuda</th>\n",
       "      <th>Cuenta</th>\n",
       "    </tr>\n",
       "  </thead>\n",
       "  <tbody>\n",
       "    <tr>\n",
       "      <th>9997</th>\n",
       "      <td>False</td>\n",
       "      <td>No</td>\n",
       "      <td>5299238</td>\n",
       "      <td>3557775</td>\n",
       "    </tr>\n",
       "    <tr>\n",
       "      <th>9998</th>\n",
       "      <td>False</td>\n",
       "      <td>No</td>\n",
       "      <td>1966072</td>\n",
       "      <td>3789815</td>\n",
       "    </tr>\n",
       "    <tr>\n",
       "      <th>9999</th>\n",
       "      <td>False</td>\n",
       "      <td>No</td>\n",
       "      <td>5863616</td>\n",
       "      <td>4227060</td>\n",
       "    </tr>\n",
       "    <tr>\n",
       "      <th>10000</th>\n",
       "      <td>False</td>\n",
       "      <td>No</td>\n",
       "      <td>3666911</td>\n",
       "      <td>7845045</td>\n",
       "    </tr>\n",
       "    <tr>\n",
       "      <th>10001</th>\n",
       "      <td>False</td>\n",
       "      <td>Si</td>\n",
       "      <td>1686295</td>\n",
       "      <td>1004611</td>\n",
       "    </tr>\n",
       "  </tbody>\n",
       "</table>\n",
       "</div>"
      ],
      "text/plain": [
       "       PudoPagar Estudiante    Deuda   Cuenta\n",
       "9997       False         No  5299238  3557775\n",
       "9998       False         No  1966072  3789815\n",
       "9999       False         No  5863616  4227060\n",
       "10000      False         No  3666911  7845045\n",
       "10001      False         Si  1686295  1004611"
      ]
     },
     "execution_count": 22,
     "metadata": {},
     "output_type": "execute_result"
    }
   ],
   "source": [
    "df.tail()"
   ]
  },
  {
   "cell_type": "code",
   "execution_count": 23,
   "metadata": {},
   "outputs": [
    {
     "data": {
      "text/html": [
       "<div>\n",
       "<style scoped>\n",
       "    .dataframe tbody tr th:only-of-type {\n",
       "        vertical-align: middle;\n",
       "    }\n",
       "\n",
       "    .dataframe tbody tr th {\n",
       "        vertical-align: top;\n",
       "    }\n",
       "\n",
       "    .dataframe thead th {\n",
       "        text-align: right;\n",
       "    }\n",
       "</style>\n",
       "<table border=\"1\" class=\"dataframe\">\n",
       "  <thead>\n",
       "    <tr style=\"text-align: right;\">\n",
       "      <th></th>\n",
       "      <th>PudoPagar</th>\n",
       "      <th>Estudiante</th>\n",
       "      <th>Deuda</th>\n",
       "      <th>Cuenta</th>\n",
       "    </tr>\n",
       "  </thead>\n",
       "  <tbody>\n",
       "    <tr>\n",
       "      <th>count</th>\n",
       "      <td>9992</td>\n",
       "      <td>9992</td>\n",
       "      <td>9.992000e+03</td>\n",
       "      <td>9.992000e+03</td>\n",
       "    </tr>\n",
       "    <tr>\n",
       "      <th>unique</th>\n",
       "      <td>2</td>\n",
       "      <td>2</td>\n",
       "      <td>NaN</td>\n",
       "      <td>NaN</td>\n",
       "    </tr>\n",
       "    <tr>\n",
       "      <th>top</th>\n",
       "      <td>False</td>\n",
       "      <td>No</td>\n",
       "      <td>NaN</td>\n",
       "      <td>NaN</td>\n",
       "    </tr>\n",
       "    <tr>\n",
       "      <th>freq</th>\n",
       "      <td>9660</td>\n",
       "      <td>7048</td>\n",
       "      <td>NaN</td>\n",
       "      <td>NaN</td>\n",
       "    </tr>\n",
       "    <tr>\n",
       "      <th>mean</th>\n",
       "      <td>NaN</td>\n",
       "      <td>NaN</td>\n",
       "      <td>3.351442e+06</td>\n",
       "      <td>5.294929e+06</td>\n",
       "    </tr>\n",
       "    <tr>\n",
       "      <th>std</th>\n",
       "      <td>NaN</td>\n",
       "      <td>NaN</td>\n",
       "      <td>1.334019e+06</td>\n",
       "      <td>7.932287e+07</td>\n",
       "    </tr>\n",
       "    <tr>\n",
       "      <th>min</th>\n",
       "      <td>NaN</td>\n",
       "      <td>NaN</td>\n",
       "      <td>7.719700e+04</td>\n",
       "      <td>0.000000e+00</td>\n",
       "    </tr>\n",
       "    <tr>\n",
       "      <th>25%</th>\n",
       "      <td>NaN</td>\n",
       "      <td>NaN</td>\n",
       "      <td>2.132927e+06</td>\n",
       "      <td>2.409284e+06</td>\n",
       "    </tr>\n",
       "    <tr>\n",
       "      <th>50%</th>\n",
       "      <td>NaN</td>\n",
       "      <td>NaN</td>\n",
       "      <td>3.454928e+06</td>\n",
       "      <td>4.118502e+06</td>\n",
       "    </tr>\n",
       "    <tr>\n",
       "      <th>75%</th>\n",
       "      <td>NaN</td>\n",
       "      <td>NaN</td>\n",
       "      <td>4.381068e+06</td>\n",
       "      <td>5.833031e+06</td>\n",
       "    </tr>\n",
       "    <tr>\n",
       "      <th>max</th>\n",
       "      <td>NaN</td>\n",
       "      <td>NaN</td>\n",
       "      <td>7.355423e+06</td>\n",
       "      <td>6.122272e+09</td>\n",
       "    </tr>\n",
       "  </tbody>\n",
       "</table>\n",
       "</div>"
      ],
      "text/plain": [
       "       PudoPagar Estudiante         Deuda        Cuenta\n",
       "count       9992       9992  9.992000e+03  9.992000e+03\n",
       "unique         2          2           NaN           NaN\n",
       "top        False         No           NaN           NaN\n",
       "freq        9660       7048           NaN           NaN\n",
       "mean         NaN        NaN  3.351442e+06  5.294929e+06\n",
       "std          NaN        NaN  1.334019e+06  7.932287e+07\n",
       "min          NaN        NaN  7.719700e+04  0.000000e+00\n",
       "25%          NaN        NaN  2.132927e+06  2.409284e+06\n",
       "50%          NaN        NaN  3.454928e+06  4.118502e+06\n",
       "75%          NaN        NaN  4.381068e+06  5.833031e+06\n",
       "max          NaN        NaN  7.355423e+06  6.122272e+09"
      ]
     },
     "execution_count": 23,
     "metadata": {},
     "output_type": "execute_result"
    }
   ],
   "source": [
    "df.describe(include=\"all\")"
   ]
  },
  {
   "cell_type": "code",
   "execution_count": 24,
   "metadata": {},
   "outputs": [
    {
     "name": "stdout",
     "output_type": "stream",
     "text": [
      "<class 'pandas.core.frame.DataFrame'>\n",
      "Int64Index: 9992 entries, 0 to 10001\n",
      "Data columns (total 4 columns):\n",
      "PudoPagar     9992 non-null bool\n",
      "Estudiante    9992 non-null object\n",
      "Deuda         9992 non-null int64\n",
      "Cuenta        9992 non-null int64\n",
      "dtypes: bool(1), int64(2), object(1)\n",
      "memory usage: 322.0+ KB\n"
     ]
    }
   ],
   "source": [
    "df.info()"
   ]
  },
  {
   "cell_type": "code",
   "execution_count": 25,
   "metadata": {},
   "outputs": [
    {
     "data": {
      "image/png": "[encoded data removed]",
      "text/plain": [
       "<Figure size 1080x720 with 2 Axes>"
      ]
     },
     "metadata": {
      "needs_background": "light"
     },
     "output_type": "display_data"
    }
   ],
   "source": [
    "fig = plt.figure(figsize=(15,10))\n",
    "i=1\n",
    "\n",
    "for var_num in df.columns[2:]:\n",
    "    ax = fig.add_subplot(2, 1, i) #Defino una tabla de 2 filas por 1 columnas, agrego el i-ésimo plot\n",
    "    sns.boxplot(y=var_num, data=df)\n",
    "    plt.title(var_num)\n",
    "    i+=1"
   ]
  },
  {
   "cell_type": "markdown",
   "metadata": {},
   "source": [
    "Cuenta sigue teniendo valores atípicos, así que se eliminarán esos registros:"
   ]
  },
  {
   "cell_type": "code",
   "execution_count": 26,
   "metadata": {},
   "outputs": [],
   "source": [
    "df = df[(df['Cuenta'] < 4000000000)]"
   ]
  },
  {
   "cell_type": "code",
   "execution_count": 27,
   "metadata": {},
   "outputs": [
    {
     "data": {
      "image/png": "[encoded data removed]",
      "text/plain": [
       "<Figure size 1080x720 with 2 Axes>"
      ]
     },
     "metadata": {
      "needs_background": "light"
     },
     "output_type": "display_data"
    }
   ],
   "source": [
    "fig = plt.figure(figsize=(15,10))\n",
    "i=1\n",
    "\n",
    "for var_num in df.columns[2:]:\n",
    "    ax = fig.add_subplot(2, 1, i) #Defino una tabla de 2 filas por 1 columnas, agrego el i-ésimo plot\n",
    "    sns.boxplot(y=var_num, data=df)\n",
    "    plt.title(var_num)\n",
    "    i+=1"
   ]
  },
  {
   "cell_type": "markdown",
   "metadata": {},
   "source": [
    "Se eliminará el último punto, ya que sigue viendose lejano:"
   ]
  },
  {
   "cell_type": "code",
   "execution_count": 28,
   "metadata": {},
   "outputs": [],
   "source": [
    "df = df[(df['Cuenta'] < 20000000)]"
   ]
  },
  {
   "cell_type": "code",
   "execution_count": 29,
   "metadata": {},
   "outputs": [
    {
     "data": {
      "image/png": "[encoded data removed]",
      "text/plain": [
       "<Figure size 1080x720 with 2 Axes>"
      ]
     },
     "metadata": {
      "needs_background": "light"
     },
     "output_type": "display_data"
    }
   ],
   "source": [
    "fig = plt.figure(figsize=(15,10))\n",
    "i=1\n",
    "\n",
    "for var_num in df.columns[2:]:\n",
    "    ax = fig.add_subplot(2, 1, i) #Defino una tabla de 2 filas por 1 columnas, agrego el i-ésimo plot\n",
    "    sns.boxplot(y=var_num, data=df)\n",
    "    plt.title(var_num)\n",
    "    i+=1"
   ]
  },
  {
   "cell_type": "markdown",
   "metadata": {},
   "source": [
    "Aún siguen saliendo valores en \"Cuenta\" que parecen atípicos, pero no están muy lejos del límite y son varios, así que los dejaremos"
   ]
  },
  {
   "cell_type": "code",
   "execution_count": 30,
   "metadata": {},
   "outputs": [
    {
     "data": {
      "text/html": [
       "<div>\n",
       "<style scoped>\n",
       "    .dataframe tbody tr th:only-of-type {\n",
       "        vertical-align: middle;\n",
       "    }\n",
       "\n",
       "    .dataframe tbody tr th {\n",
       "        vertical-align: top;\n",
       "    }\n",
       "\n",
       "    .dataframe thead th {\n",
       "        text-align: right;\n",
       "    }\n",
       "</style>\n",
       "<table border=\"1\" class=\"dataframe\">\n",
       "  <thead>\n",
       "    <tr style=\"text-align: right;\">\n",
       "      <th></th>\n",
       "      <th>PudoPagar</th>\n",
       "      <th>Estudiante</th>\n",
       "      <th>Deuda</th>\n",
       "      <th>Cuenta</th>\n",
       "    </tr>\n",
       "  </thead>\n",
       "  <tbody>\n",
       "  </tbody>\n",
       "</table>\n",
       "</div>"
      ],
      "text/plain": [
       "Empty DataFrame\n",
       "Columns: [PudoPagar, Estudiante, Deuda, Cuenta]\n",
       "Index: []"
      ]
     },
     "execution_count": 30,
     "metadata": {},
     "output_type": "execute_result"
    }
   ],
   "source": [
    "df[df.duplicated()]"
   ]
  },
  {
   "cell_type": "code",
   "execution_count": 31,
   "metadata": {},
   "outputs": [
    {
     "data": {
      "text/plain": [
       "(9989, 4)"
      ]
     },
     "execution_count": 31,
     "metadata": {},
     "output_type": "execute_result"
    }
   ],
   "source": [
    "df.shape"
   ]
  },
  {
   "cell_type": "markdown",
   "metadata": {},
   "source": [
    "Tenemos que el dataset después de limpieza cuenta con 9989 registros."
   ]
  },
  {
   "cell_type": "markdown",
   "metadata": {},
   "source": [
    "# 2. Modelo de referencia (Baseline)"
   ]
  },
  {
   "cell_type": "code",
   "execution_count": 32,
   "metadata": {},
   "outputs": [
    {
     "data": {
      "text/html": [
       "<div>\n",
       "<style scoped>\n",
       "    .dataframe tbody tr th:only-of-type {\n",
       "        vertical-align: middle;\n",
       "    }\n",
       "\n",
       "    .dataframe tbody tr th {\n",
       "        vertical-align: top;\n",
       "    }\n",
       "\n",
       "    .dataframe thead th {\n",
       "        text-align: right;\n",
       "    }\n",
       "</style>\n",
       "<table border=\"1\" class=\"dataframe\">\n",
       "  <thead>\n",
       "    <tr style=\"text-align: right;\">\n",
       "      <th></th>\n",
       "      <th>PudoPagar</th>\n",
       "      <th>Estudiante</th>\n",
       "      <th>Deuda</th>\n",
       "      <th>Cuenta</th>\n",
       "    </tr>\n",
       "  </thead>\n",
       "  <tbody>\n",
       "    <tr>\n",
       "      <th>count</th>\n",
       "      <td>9989</td>\n",
       "      <td>9989</td>\n",
       "      <td>9.989000e+03</td>\n",
       "      <td>9.989000e+03</td>\n",
       "    </tr>\n",
       "    <tr>\n",
       "      <th>unique</th>\n",
       "      <td>2</td>\n",
       "      <td>2</td>\n",
       "      <td>NaN</td>\n",
       "      <td>NaN</td>\n",
       "    </tr>\n",
       "    <tr>\n",
       "      <th>top</th>\n",
       "      <td>False</td>\n",
       "      <td>No</td>\n",
       "      <td>NaN</td>\n",
       "      <td>NaN</td>\n",
       "    </tr>\n",
       "    <tr>\n",
       "      <th>freq</th>\n",
       "      <td>9657</td>\n",
       "      <td>7045</td>\n",
       "      <td>NaN</td>\n",
       "      <td>NaN</td>\n",
       "    </tr>\n",
       "    <tr>\n",
       "      <th>mean</th>\n",
       "      <td>NaN</td>\n",
       "      <td>NaN</td>\n",
       "      <td>3.350911e+06</td>\n",
       "      <td>4.176538e+06</td>\n",
       "    </tr>\n",
       "    <tr>\n",
       "      <th>std</th>\n",
       "      <td>NaN</td>\n",
       "      <td>NaN</td>\n",
       "      <td>1.333857e+06</td>\n",
       "      <td>2.417627e+06</td>\n",
       "    </tr>\n",
       "    <tr>\n",
       "      <th>min</th>\n",
       "      <td>NaN</td>\n",
       "      <td>NaN</td>\n",
       "      <td>7.719700e+04</td>\n",
       "      <td>0.000000e+00</td>\n",
       "    </tr>\n",
       "    <tr>\n",
       "      <th>25%</th>\n",
       "      <td>NaN</td>\n",
       "      <td>NaN</td>\n",
       "      <td>2.132316e+06</td>\n",
       "      <td>2.409205e+06</td>\n",
       "    </tr>\n",
       "    <tr>\n",
       "      <th>50%</th>\n",
       "      <td>NaN</td>\n",
       "      <td>NaN</td>\n",
       "      <td>3.454612e+06</td>\n",
       "      <td>4.118049e+06</td>\n",
       "    </tr>\n",
       "    <tr>\n",
       "      <th>75%</th>\n",
       "      <td>NaN</td>\n",
       "      <td>NaN</td>\n",
       "      <td>4.380263e+06</td>\n",
       "      <td>5.830501e+06</td>\n",
       "    </tr>\n",
       "    <tr>\n",
       "      <th>max</th>\n",
       "      <td>NaN</td>\n",
       "      <td>NaN</td>\n",
       "      <td>7.355423e+06</td>\n",
       "      <td>1.327161e+07</td>\n",
       "    </tr>\n",
       "  </tbody>\n",
       "</table>\n",
       "</div>"
      ],
      "text/plain": [
       "       PudoPagar Estudiante         Deuda        Cuenta\n",
       "count       9989       9989  9.989000e+03  9.989000e+03\n",
       "unique         2          2           NaN           NaN\n",
       "top        False         No           NaN           NaN\n",
       "freq        9657       7045           NaN           NaN\n",
       "mean         NaN        NaN  3.350911e+06  4.176538e+06\n",
       "std          NaN        NaN  1.333857e+06  2.417627e+06\n",
       "min          NaN        NaN  7.719700e+04  0.000000e+00\n",
       "25%          NaN        NaN  2.132316e+06  2.409205e+06\n",
       "50%          NaN        NaN  3.454612e+06  4.118049e+06\n",
       "75%          NaN        NaN  4.380263e+06  5.830501e+06\n",
       "max          NaN        NaN  7.355423e+06  1.327161e+07"
      ]
     },
     "execution_count": 32,
     "metadata": {},
     "output_type": "execute_result"
    }
   ],
   "source": [
    "df.describe(include='all')"
   ]
  },
  {
   "cell_type": "markdown",
   "metadata": {},
   "source": [
    "El valor que más se repite en nuestra variable a predecir es False, con una frecuencia de 9657 / 9989"
   ]
  },
  {
   "cell_type": "markdown",
   "metadata": {},
   "source": [
    "Es decir, si se usara el baseline, prediciría todos los datos como que no podrán pagar el credito a tiempo (es decir, como False)."
   ]
  },
  {
   "cell_type": "code",
   "execution_count": 33,
   "metadata": {},
   "outputs": [
    {
     "name": "stdout",
     "output_type": "stream",
     "text": [
      "El accuracy del baseline sería de 0.9667634397837621\n"
     ]
    }
   ],
   "source": [
    " print('El accuracy del baseline sería de', df['PudoPagar'].value_counts().max()/df.shape[0])"
   ]
  },
  {
   "cell_type": "markdown",
   "metadata": {},
   "source": [
    "# 3. Holdout sobre el dataset"
   ]
  },
  {
   "cell_type": "markdown",
   "metadata": {},
   "source": [
    "### Holdout global"
   ]
  },
  {
   "cell_type": "code",
   "execution_count": 34,
   "metadata": {},
   "outputs": [],
   "source": [
    "from sklearn.model_selection import train_test_split #metodo de particionamiento de datasets para evaluación\n",
    "from sklearn.preprocessing import StandardScaler\n",
    "stdsc_global = StandardScaler()"
   ]
  },
  {
   "cell_type": "code",
   "execution_count": 35,
   "metadata": {},
   "outputs": [],
   "source": [
    "x_global = df.iloc[:,2:].values\n",
    "y_global = df.iloc[:,0].values"
   ]
  },
  {
   "cell_type": "code",
   "execution_count": 36,
   "metadata": {},
   "outputs": [],
   "source": [
    "X_train_global, X_test_global, y_train_global, y_test_global = train_test_split(x_global, y_global, test_size=0.3, random_state=12345, stratify=y_global)\n",
    "X_train_std_global = stdsc_global.fit_transform(X_train_global)\n",
    "X_test_std_global = stdsc_global.transform(X_test_global)"
   ]
  },
  {
   "cell_type": "markdown",
   "metadata": {},
   "source": [
    "### Holdout Estudiantes"
   ]
  },
  {
   "cell_type": "code",
   "execution_count": 37,
   "metadata": {},
   "outputs": [],
   "source": [
    "stdsc_estud = StandardScaler()"
   ]
  },
  {
   "cell_type": "code",
   "execution_count": 38,
   "metadata": {},
   "outputs": [],
   "source": [
    "x_estud = df[(df['Estudiante'] == 'Si')].iloc[:,2:].values\n",
    "y_estud = df[(df['Estudiante'] == 'Si')].iloc[:,0].values "
   ]
  },
  {
   "cell_type": "code",
   "execution_count": 39,
   "metadata": {},
   "outputs": [],
   "source": [
    "X_train_estud, X_test_estud, y_train_estud, y_test_estud = train_test_split(x_estud, y_estud, test_size=0.3, random_state=12345, stratify=y_estud)\n",
    "X_train_std_estud = stdsc_estud.fit_transform(X_train_estud)\n",
    "X_test_std_estud = stdsc_estud.transform(X_test_estud)"
   ]
  },
  {
   "cell_type": "markdown",
   "metadata": {},
   "source": [
    "### Holdout No Estudiantes"
   ]
  },
  {
   "cell_type": "code",
   "execution_count": 40,
   "metadata": {},
   "outputs": [],
   "source": [
    "stdsc_no_estud = StandardScaler()"
   ]
  },
  {
   "cell_type": "code",
   "execution_count": 41,
   "metadata": {},
   "outputs": [],
   "source": [
    "x_no_estud = df[(df['Estudiante'] == 'No')].iloc[:,2:].values\n",
    "y_no_estud = df[(df['Estudiante'] == 'No')].iloc[:,0].values "
   ]
  },
  {
   "cell_type": "code",
   "execution_count": 42,
   "metadata": {},
   "outputs": [],
   "source": [
    "X_train_no_estud, X_test_no_estud, y_train_no_estud, y_test_no_estud = train_test_split(x_no_estud, y_no_estud, test_size=0.3, random_state=12345, stratify=y_no_estud)\n",
    "X_train_std_no_estud = stdsc_no_estud.fit_transform(X_train_no_estud)\n",
    "X_test_std_no_estud = stdsc_no_estud.transform(X_test_no_estud)"
   ]
  },
  {
   "cell_type": "markdown",
   "metadata": {},
   "source": [
    "# 4. KNN"
   ]
  },
  {
   "cell_type": "markdown",
   "metadata": {},
   "source": [
    "### KNN Global"
   ]
  },
  {
   "cell_type": "code",
   "execution_count": 43,
   "metadata": {},
   "outputs": [],
   "source": [
    "from sklearn import neighbors, datasets, metrics\n",
    "from sklearn.model_selection import StratifiedKFold #Iteradores de C-V\n",
    "\n",
    "import warnings\n",
    "warnings.filterwarnings('ignore')"
   ]
  },
  {
   "cell_type": "code",
   "execution_count": 44,
   "metadata": {},
   "outputs": [
    {
     "name": "stdout",
     "output_type": "stream",
     "text": [
      "Con k = 1  el kappa promedio es: 0.2829849388623419\n",
      "Con k = 3  el kappa promedio es: 0.3463883012343942\n",
      "Con k = 5  el kappa promedio es: 0.3908548574060453\n",
      "Con k = 7  el kappa promedio es: 0.3973104982090231\n",
      "Con k = 8  el kappa promedio es: 0.38184650977117907\n",
      "Con k = 9  el kappa promedio es: 0.4255211016792416\n",
      "Con k = 11  el kappa promedio es: 0.416448311102951\n",
      "Con k = 12  el kappa promedio es: 0.3701434142188984\n",
      "Con k = 13  el kappa promedio es: 0.39293823283740015\n",
      "Con k = 14  el kappa promedio es: 0.3690820505437061\n",
      "Con k = 15  el kappa promedio es: 0.4036238071035256\n",
      "El k seleccionado, basandonos en el Kappa, es 9 que genera un kappa promedio de 0.4255211016792416\n"
     ]
    }
   ],
   "source": [
    "ks=[1,3,5,7,8,9,11,12,13,14,15]\n",
    "max_k_global = 0\n",
    "max_kappa_global = -2\n",
    "for k in ks:\n",
    "    knn = neighbors.KNeighborsClassifier(n_neighbors=k)\n",
    "    kf = StratifiedKFold(n_splits=5, shuffle=True, random_state=1234)\n",
    "    acc_test_vec=[]\n",
    "    for indices_train, indices_test in kf.split(X_train_std_global, y_train_global):\n",
    "        knn.fit(X_train_std_global[indices_train], y_train_global[indices_train])\n",
    "        y_pred = knn.predict(X_train_std_global[indices_test])\n",
    "        acc_test_vec.append(metrics.cohen_kappa_score(y_train_global[indices_test], y_pred))\n",
    "    kappa = np.asarray(acc_test_vec).mean()\n",
    "    if (kappa > max_kappa_global):\n",
    "        max_k_global = k\n",
    "        max_kappa_global = kappa\n",
    "    print(\"Con k =\", k, \" el kappa promedio es:\", kappa)\n",
    "    \n",
    "print(\"El k seleccionado, basandonos en el Kappa, es\", max_k_global, \"que genera un kappa promedio de\",max_kappa_global)"
   ]
  },
  {
   "cell_type": "markdown",
   "metadata": {},
   "source": [
    "### KNN Estudiantes"
   ]
  },
  {
   "cell_type": "code",
   "execution_count": 45,
   "metadata": {},
   "outputs": [
    {
     "name": "stdout",
     "output_type": "stream",
     "text": [
      "Con k = 1  el kappa promedio es: 0.3290015196525126\n",
      "Con k = 3  el kappa promedio es: 0.38342968475727235\n",
      "Con k = 5  el kappa promedio es: 0.40213472119230814\n",
      "Con k = 7  el kappa promedio es: 0.44505059394607305\n",
      "Con k = 8  el kappa promedio es: 0.4234144775943044\n",
      "Con k = 9  el kappa promedio es: 0.44955199193992623\n",
      "Con k = 11  el kappa promedio es: 0.465183444824099\n",
      "Con k = 12  el kappa promedio es: 0.4069284486896404\n",
      "Con k = 13  el kappa promedio es: 0.4431542448556873\n",
      "Con k = 14  el kappa promedio es: 0.4158290232697732\n",
      "Con k = 15  el kappa promedio es: 0.4344040467502195\n",
      "El k seleccionado, basandonos en el Kappa, es 11 que genera un kappa promedio de 0.465183444824099\n"
     ]
    }
   ],
   "source": [
    "ks=[1,3,5,7,8,9,11,12,13,14,15]\n",
    "max_k_estud = 0\n",
    "max_kappa_estud = -2\n",
    "for k in ks:\n",
    "    knn = neighbors.KNeighborsClassifier(n_neighbors=k)\n",
    "    kf = StratifiedKFold(n_splits=5, shuffle=True, random_state=1234)\n",
    "    acc_test_vec=[]\n",
    "    for indices_train, indices_test in kf.split(X_train_std_estud, y_train_estud):\n",
    "        knn.fit(X_train_std_estud[indices_train], y_train_estud[indices_train])\n",
    "        y_pred = knn.predict(X_train_std_estud[indices_test])\n",
    "        acc_test_vec.append(metrics.cohen_kappa_score(y_train_estud[indices_test], y_pred))\n",
    "    kappa = np.asarray(acc_test_vec).mean()\n",
    "    if (kappa > max_kappa_estud):\n",
    "        max_k_estud = k\n",
    "        max_kappa_estud = kappa\n",
    "    print(\"Con k =\", k, \" el kappa promedio es:\", kappa)\n",
    "    \n",
    "print(\"El k seleccionado, basandonos en el Kappa, es\", max_k_estud, \"que genera un kappa promedio de\",max_kappa_estud)"
   ]
  },
  {
   "cell_type": "markdown",
   "metadata": {},
   "source": [
    "### KNN No Estudiantes"
   ]
  },
  {
   "cell_type": "code",
   "execution_count": 46,
   "metadata": {},
   "outputs": [
    {
     "name": "stdout",
     "output_type": "stream",
     "text": [
      "Con k = 1  el kappa promedio es: 0.2528068020718517\n",
      "Con k = 3  el kappa promedio es: 0.38200322633654965\n",
      "Con k = 5  el kappa promedio es: 0.39715446638585405\n",
      "Con k = 7  el kappa promedio es: 0.39848165726298246\n",
      "Con k = 8  el kappa promedio es: 0.379201170680441\n",
      "Con k = 9  el kappa promedio es: 0.3996445712089894\n",
      "Con k = 11  el kappa promedio es: 0.4022396160291552\n",
      "Con k = 12  el kappa promedio es: 0.3522217360734123\n",
      "Con k = 13  el kappa promedio es: 0.35915538916463746\n",
      "Con k = 14  el kappa promedio es: 0.3475267383188946\n",
      "Con k = 15  el kappa promedio es: 0.3708532357214909\n",
      "El k seleccionado, basandonos en el Kappa, es 11 que genera un kappa promedio de 0.4022396160291552\n"
     ]
    }
   ],
   "source": [
    "ks=[1,3,5,7,8,9,11,12,13,14,15]\n",
    "max_k_no_estud = 0\n",
    "max_kappa_no_estud = -2\n",
    "for k in ks:\n",
    "    knn = neighbors.KNeighborsClassifier(n_neighbors=k)\n",
    "    kf = StratifiedKFold(n_splits=5, shuffle=True, random_state=1234)\n",
    "    acc_test_vec=[]\n",
    "    for indices_train, indices_test in kf.split(X_train_std_no_estud, y_train_no_estud):\n",
    "        knn.fit(X_train_std_no_estud[indices_train], y_train_no_estud[indices_train])\n",
    "        y_pred = knn.predict(X_train_std_no_estud[indices_test])\n",
    "        acc_test_vec.append(metrics.cohen_kappa_score(y_train_no_estud[indices_test], y_pred))\n",
    "    kappa = np.asarray(acc_test_vec).mean()\n",
    "    if (kappa > max_kappa_no_estud):\n",
    "        max_k_no_estud = k\n",
    "        max_kappa_no_estud = kappa\n",
    "    print(\"Con k =\", k, \" el kappa promedio es:\", kappa)\n",
    "    \n",
    "print(\"El k seleccionado, basandonos en el Kappa, es\", max_k_no_estud, \"que genera un kappa promedio de\",max_kappa_no_estud)"
   ]
  },
  {
   "cell_type": "markdown",
   "metadata": {},
   "source": [
    "# 5. Naive Bayes"
   ]
  },
  {
   "cell_type": "markdown",
   "metadata": {},
   "source": [
    "### Naive Bayes global "
   ]
  },
  {
   "cell_type": "code",
   "execution_count": 47,
   "metadata": {},
   "outputs": [],
   "source": [
    "from sklearn import naive_bayes"
   ]
  },
  {
   "cell_type": "code",
   "execution_count": 48,
   "metadata": {},
   "outputs": [
    {
     "name": "stdout",
     "output_type": "stream",
     "text": [
      "Con var_smoothing = 1e-100  el kappa promedio es: 0.39374094215399325\n",
      "Con var_smoothing = 1e-20  el kappa promedio es: 0.39374094215399325\n",
      "Con var_smoothing = 1e-10  el kappa promedio es: 0.39374094215399325\n",
      "Con var_smoothing = 1e-09  el kappa promedio es: 0.39374094215399325\n",
      "Con var_smoothing = 1e-08  el kappa promedio es: 0.39374094215399325\n",
      "Con var_smoothing = 0.0001  el kappa promedio es: 0.39374094215399325\n",
      "Con var_smoothing = 0.01  el kappa promedio es: 0.38336339507376516\n",
      "Con var_smoothing = 0.1  el kappa promedio es: 0.2796138258884258\n",
      "Con var_smoothing = 0  el kappa promedio es: 0.39374094215399325\n",
      "Con var_smoothing = 1  el kappa promedio es: 0.0\n",
      "Con var_smoothing = 100.0  el kappa promedio es: 0.0\n",
      "Con var_smoothing = 10000.0  el kappa promedio es: 0.0\n",
      "El smoothing seleccionado, basandonos en el Kappa, es 1e-20 que genera un kappa promedio de 0.39374094215399325\n"
     ]
    }
   ],
   "source": [
    "smoothings=[1e-100,1e-20,1e-10,1e-9,1e-8,1e-4,1e-2,1e-1,0,1,1e2,1e4]\n",
    "max_smoothing_global = 0\n",
    "max_kappa_global = -2\n",
    "\n",
    "for smoothing in smoothings:    \n",
    "    gnb = naive_bayes.GaussianNB(var_smoothing=smoothing)\n",
    "    kf = StratifiedKFold(n_splits=5, shuffle=True, random_state=1234)\n",
    "    modeloGNB = gnb.fit(X_train_std_global, y_train_global)\n",
    "    acc_test_vec=[]\n",
    "    for indices_train, indices_test in kf.split(X_train_std_global, y_train_global):\n",
    "        gnb.fit(X_train_std_global[indices_train], y_train_global[indices_train])\n",
    "        y_pred = gnb.predict(X_train_std_global[indices_test])\n",
    "        acc_test_vec.append(metrics.cohen_kappa_score(y_train_global[indices_test], y_pred))\n",
    "    \n",
    "    if (kappa > max_kappa_global):\n",
    "        max_smoothing_global = smoothing\n",
    "        max_kappa_global = kappa\n",
    "    \n",
    "    kappa = np.asarray(acc_test_vec).mean()\n",
    "    print(\"Con var_smoothing =\", smoothing, \" el kappa promedio es:\", kappa)\n",
    "print(\"El smoothing seleccionado, basandonos en el Kappa, es\", max_smoothing_global, \"que genera un kappa promedio de\",max_kappa_global)\n",
    "    "
   ]
  },
  {
   "cell_type": "markdown",
   "metadata": {},
   "source": [
    "### Naive Bayes Estudiantes"
   ]
  },
  {
   "cell_type": "code",
   "execution_count": 49,
   "metadata": {},
   "outputs": [
    {
     "name": "stdout",
     "output_type": "stream",
     "text": [
      "Con var_smoothing = 1e-100  el kappa promedio es: 0.39519416328215506\n",
      "Con var_smoothing = 1e-20  el kappa promedio es: 0.39519416328215506\n",
      "Con var_smoothing = 1e-10  el kappa promedio es: 0.39519416328215506\n",
      "Con var_smoothing = 1e-09  el kappa promedio es: 0.39519416328215506\n",
      "Con var_smoothing = 1e-08  el kappa promedio es: 0.39519416328215506\n",
      "Con var_smoothing = 0.0001  el kappa promedio es: 0.39519416328215506\n",
      "Con var_smoothing = 0.01  el kappa promedio es: 0.36839554478430026\n",
      "Con var_smoothing = 0.1  el kappa promedio es: 0.2891496963020015\n",
      "Con var_smoothing = 0  el kappa promedio es: 0.39519416328215506\n",
      "Con var_smoothing = 1  el kappa promedio es: 0.0\n",
      "Con var_smoothing = 100.0  el kappa promedio es: 0.0\n",
      "Con var_smoothing = 10000.0  el kappa promedio es: 0.0\n",
      "El smoothing seleccionado, basandonos en el Kappa, es 1e-20 que genera un kappa promedio de 0.39519416328215506\n"
     ]
    }
   ],
   "source": [
    "smoothings=[1e-100,1e-20,1e-10,1e-9,1e-8,1e-4,1e-2,1e-1,0,1,1e2,1e4]\n",
    "max_smoothing_estud = 0\n",
    "max_kappa_estud = -2\n",
    "\n",
    "for smoothing in smoothings:    \n",
    "    gnb = naive_bayes.GaussianNB(var_smoothing=smoothing)\n",
    "    kf = StratifiedKFold(n_splits=5, shuffle=True, random_state=1234)\n",
    "    modeloGNB = gnb.fit(X_train_std_estud, y_train_estud)\n",
    "    acc_test_vec=[]\n",
    "    for indices_train, indices_test in kf.split(X_train_std_estud, y_train_estud):\n",
    "        gnb.fit(X_train_std_estud[indices_train], y_train_estud[indices_train])\n",
    "        y_pred = gnb.predict(X_train_std_estud[indices_test])\n",
    "        acc_test_vec.append(metrics.cohen_kappa_score(y_train_estud[indices_test], y_pred))\n",
    "    \n",
    "    if (kappa > max_kappa_estud):\n",
    "        max_smoothing_estud = smoothing\n",
    "        max_kappa_estud = kappa\n",
    "    \n",
    "    kappa = np.asarray(acc_test_vec).mean()\n",
    "    print(\"Con var_smoothing =\", smoothing, \" el kappa promedio es:\", kappa)\n",
    "print(\"El smoothing seleccionado, basandonos en el Kappa, es\", max_smoothing_estud, \"que genera un kappa promedio de\",max_kappa_estud)\n",
    "    "
   ]
  },
  {
   "cell_type": "markdown",
   "metadata": {},
   "source": [
    "### Naive Bayes No Estudiante"
   ]
  },
  {
   "cell_type": "code",
   "execution_count": 50,
   "metadata": {
    "scrolled": true
   },
   "outputs": [
    {
     "name": "stdout",
     "output_type": "stream",
     "text": [
      "Con var_smoothing = 1e-100  el kappa promedio es: 0.35895236151920507\n",
      "Con var_smoothing = 1e-20  el kappa promedio es: 0.35895236151920507\n",
      "Con var_smoothing = 1e-10  el kappa promedio es: 0.35895236151920507\n",
      "Con var_smoothing = 1e-09  el kappa promedio es: 0.35895236151920507\n",
      "Con var_smoothing = 1e-08  el kappa promedio es: 0.35895236151920507\n",
      "Con var_smoothing = 0.0001  el kappa promedio es: 0.35895236151920507\n",
      "Con var_smoothing = 0.01  el kappa promedio es: 0.3502917919617904\n",
      "Con var_smoothing = 0.1  el kappa promedio es: 0.2211935512512894\n",
      "Con var_smoothing = 0  el kappa promedio es: 0.35895236151920507\n",
      "Con var_smoothing = 1  el kappa promedio es: 0.0\n",
      "Con var_smoothing = 100.0  el kappa promedio es: 0.0\n",
      "Con var_smoothing = 10000.0  el kappa promedio es: 0.0\n",
      "El smoothing seleccionado, basandonos en el Kappa, es 1e-20 que genera un kappa promedio de 0.35895236151920507\n"
     ]
    }
   ],
   "source": [
    "smoothings=[1e-100,1e-20,1e-10,1e-9,1e-8,1e-4,1e-2,1e-1,0,1,1e2,1e4]\n",
    "max_smoothing_no_estud = 0\n",
    "max_kappa_no_estud = -2\n",
    "\n",
    "for smoothing in smoothings:    \n",
    "    gnb = naive_bayes.GaussianNB(var_smoothing=smoothing)\n",
    "    kf = StratifiedKFold(n_splits=5, shuffle=True, random_state=1234)\n",
    "    modeloGNB = gnb.fit(X_train_std_no_estud, y_train_no_estud)\n",
    "    acc_test_vec=[]\n",
    "    for indices_train, indices_test in kf.split(X_train_std_no_estud, y_train_no_estud):\n",
    "        gnb.fit(X_train_std_no_estud[indices_train], y_train_no_estud[indices_train])\n",
    "        y_pred = gnb.predict(X_train_std_no_estud[indices_test])\n",
    "        acc_test_vec.append(metrics.cohen_kappa_score(y_train_no_estud[indices_test], y_pred))\n",
    "    \n",
    "    if (kappa > max_kappa_no_estud):\n",
    "        max_smoothing_no_estud = smoothing\n",
    "        max_kappa_no_estud = kappa\n",
    "    \n",
    "    kappa = np.asarray(acc_test_vec).mean()\n",
    "    print(\"Con var_smoothing =\", smoothing, \" el kappa promedio es:\", kappa)\n",
    "print(\"El smoothing seleccionado, basandonos en el Kappa, es\", max_smoothing_no_estud, \"que genera un kappa promedio de\",max_kappa_no_estud)\n",
    "    "
   ]
  },
  {
   "cell_type": "markdown",
   "metadata": {},
   "source": [
    "#### Si quisieramos incluir el efecto de la variable Estudiante en el modelo entrenado con las variables numéricas sin utilizar sklearn, lo que tendríamos que hacer es tratar la variable \"Estudiante\" como un valor entero, en donde a los que tienen como valor \"Si\" se les asigna el valor 1, mientras que a los que valen \"No\", se les asigna un 0"
   ]
  },
  {
   "cell_type": "markdown",
   "metadata": {},
   "source": [
    "# 6. Comparación y conclusiones"
   ]
  },
  {
   "cell_type": "markdown",
   "metadata": {},
   "source": [
    "### Comparación global"
   ]
  },
  {
   "cell_type": "code",
   "execution_count": 51,
   "metadata": {},
   "outputs": [
    {
     "data": {
      "text/plain": [
       "0.3737742358715196"
      ]
     },
     "execution_count": 51,
     "metadata": {},
     "output_type": "execute_result"
    }
   ],
   "source": [
    "knn = neighbors.KNeighborsClassifier(n_neighbors=max_k_global)\n",
    "knn.fit(X_train_std_global, y_train_global)\n",
    "y_pred = knn.predict(X_test_std_global)\n",
    "knn_kappa_global = metrics.cohen_kappa_score(y_test_global, y_pred)\n",
    "knn_kappa_global"
   ]
  },
  {
   "cell_type": "code",
   "execution_count": 52,
   "metadata": {},
   "outputs": [
    {
     "data": {
      "text/plain": [
       "0.37076864787379615"
      ]
     },
     "execution_count": 52,
     "metadata": {},
     "output_type": "execute_result"
    }
   ],
   "source": [
    "gnb = naive_bayes.GaussianNB(var_smoothing=max_smoothing_global)\n",
    "gnb.fit(X_train_std_global, y_train_global)\n",
    "y_pred = gnb.predict(X_test_std_global)\n",
    "bayes_kappa_global = metrics.cohen_kappa_score(y_test_global, y_pred)\n",
    "bayes_kappa_global"
   ]
  },
  {
   "cell_type": "markdown",
   "metadata": {},
   "source": [
    "#### Lo que se puede concluir cuando se hace una predicción global, es que, aparentemente, el Kappa es más alto para el KNN que para el Naive-Bayes, por lo que se recomendará utilizar el modelo de knn con k = 9"
   ]
  },
  {
   "cell_type": "markdown",
   "metadata": {},
   "source": [
    "### Comparación estudiantes"
   ]
  },
  {
   "cell_type": "code",
   "execution_count": 53,
   "metadata": {},
   "outputs": [
    {
     "data": {
      "text/plain": [
       "0.4400948022229487"
      ]
     },
     "execution_count": 53,
     "metadata": {},
     "output_type": "execute_result"
    }
   ],
   "source": [
    "knn = neighbors.KNeighborsClassifier(n_neighbors=max_k_estud)\n",
    "knn.fit(X_train_std_estud, y_train_estud)\n",
    "y_pred = knn.predict(X_test_std_estud)\n",
    "knn_kappa_global = metrics.cohen_kappa_score(y_test_estud, y_pred)\n",
    "knn_kappa_global"
   ]
  },
  {
   "cell_type": "code",
   "execution_count": 54,
   "metadata": {},
   "outputs": [
    {
     "data": {
      "text/plain": [
       "0.4005075253762689"
      ]
     },
     "execution_count": 54,
     "metadata": {},
     "output_type": "execute_result"
    }
   ],
   "source": [
    "gnb = naive_bayes.GaussianNB(var_smoothing=max_smoothing_estud)\n",
    "gnb.fit(X_train_std_estud, y_train_estud)\n",
    "y_pred = gnb.predict(X_test_std_estud)\n",
    "bayes_kappa_global = metrics.cohen_kappa_score(y_test_estud, y_pred)\n",
    "bayes_kappa_global"
   ]
  },
  {
   "cell_type": "markdown",
   "metadata": {},
   "source": [
    "#### Lo que se puede concluir cuando se hace una predicción entre los estudiantes, es que, aparentemente, el Kappa es más alto para el KNN que para el Naive-Bayes, por lo que se recomendará utilizar el modelo de knn con k = 11"
   ]
  },
  {
   "cell_type": "markdown",
   "metadata": {},
   "source": [
    "### Comparación No Estudiantes"
   ]
  },
  {
   "cell_type": "code",
   "execution_count": 55,
   "metadata": {},
   "outputs": [
    {
     "data": {
      "text/plain": [
       "0.3840913665787328"
      ]
     },
     "execution_count": 55,
     "metadata": {},
     "output_type": "execute_result"
    }
   ],
   "source": [
    "knn = neighbors.KNeighborsClassifier(n_neighbors=max_k_no_estud)\n",
    "knn.fit(X_train_std_no_estud, y_train_no_estud)\n",
    "y_pred = knn.predict(X_test_std_no_estud)\n",
    "knn_kappa_global = metrics.cohen_kappa_score(y_test_no_estud, y_pred)\n",
    "knn_kappa_global"
   ]
  },
  {
   "cell_type": "code",
   "execution_count": 56,
   "metadata": {},
   "outputs": [
    {
     "data": {
      "text/plain": [
       "0.36641445843088016"
      ]
     },
     "execution_count": 56,
     "metadata": {},
     "output_type": "execute_result"
    }
   ],
   "source": [
    "gnb = naive_bayes.GaussianNB(var_smoothing=max_smoothing_no_estud)\n",
    "gnb.fit(X_train_std_no_estud, y_train_no_estud)\n",
    "y_pred = gnb.predict(X_test_std_no_estud)\n",
    "bayes_kappa_global = metrics.cohen_kappa_score(y_test_no_estud, y_pred)\n",
    "bayes_kappa_global"
   ]
  },
  {
   "cell_type": "markdown",
   "metadata": {},
   "source": [
    "#### Lo que se puede concluir cuando se hace una predicción entre los no estudiantes estudiantes, es que, aparentemente, el Kappa es más alto para el KNN que para el Naive-Bayes, por lo que se recomendará utilizar el modelo de knn con k = 11"
   ]
  },
  {
   "cell_type": "markdown",
   "metadata": {},
   "source": [
    "### Conclusiones Generales"
   ]
  },
  {
   "cell_type": "markdown",
   "metadata": {},
   "source": [
    "#### De forma general, se concluye que, para los 3 casos evaluados, el modelo de KNN tiene un mejor coeficiente Kappa que el modelo de Naive-Bayes. Es decir, knn genera mejores predicciones en comparación al baseline de lo que lo hace el Naive-Bayes para este caso en específico"
   ]
  },
  {
   "cell_type": "markdown",
   "metadata": {},
   "source": [
    "#### También, se puede evidenciar que los coeficientes kappas cuando se evalúan estudiantes y no estudiantes, son mejores que el kappa de el modelo general (sobretodo en el caso de estudiantes), por lo que se puede concluir que lo mejor es tener estos dos modelos separados y, cuando se quiera predecir si un cliente va a pagar o no su prestamo a tiempo, en caso que sea estudiante se evaluará en uno de los modelos (el que fue entrenado con estudiantes), y en caso que no en el otro (que fue entrenado por no estudiantes)"
   ]
  }
 ],
 "metadata": {
  "kernelspec": {
   "display_name": "Python 3",
   "language": "python",
   "name": "python3"
  },
  "language_info": {
   "codemirror_mode": {
    "name": "ipython",
    "version": 3
   },
   "file_extension": ".py",
   "mimetype": "text/x-python",
   "name": "python",
   "nbconvert_exporter": "python",
   "pygments_lexer": "ipython3",
   "version": "3.7.6"
  }
 },
 "nbformat": 4,
 "nbformat_minor": 2
}
