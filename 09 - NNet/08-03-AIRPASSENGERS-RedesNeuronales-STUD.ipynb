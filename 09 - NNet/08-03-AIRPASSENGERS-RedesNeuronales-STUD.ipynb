{
 "cells": [
  {
   "cell_type": "markdown",
   "metadata": {},
   "source": [
    "# Redes neuronales para pronosticar el número de pasajeros aéreos"
   ]
  },
  {
   "cell_type": "markdown",
   "metadata": {},
   "source": [
    "Vamos a utilizar modelos de redes neuronales para realizar tareas de pronóstico."
   ]
  },
  {
   "cell_type": "markdown",
   "metadata": {},
   "source": [
    "Los datos que vamos a analizar son los correspondientes al número de pasajeros aéreos mensuales. Van desde enero de 1949 hasta diciembre de 1960."
   ]
  },
  {
   "cell_type": "code",
   "execution_count": null,
   "metadata": {},
   "outputs": [],
   "source": [
    "import numpy as np\n",
    "import pandas as pd #tratamiento de datos\n",
    "import matplotlib.pyplot as plt #gráficos\n",
    "from sklearn.neural_network import MLPRegressor\n",
    "from sklearn.metrics import mean_squared_error, mean_absolute_error, r2_score\n",
    "from math import sqrt"
   ]
  },
  {
   "cell_type": "code",
   "execution_count": null,
   "metadata": {},
   "outputs": [],
   "source": [
    "import warnings\n",
    "warnings.filterwarnings('ignore')"
   ]
  },
  {
   "cell_type": "markdown",
   "metadata": {},
   "source": [
    "## Entendimiento de los datos"
   ]
  },
  {
   "cell_type": "markdown",
   "metadata": {},
   "source": [
    "Cargamos los datos para entenderlos"
   ]
  },
  {
   "cell_type": "code",
   "execution_count": null,
   "metadata": {},
   "outputs": [],
   "source": [
    "df = pd.read_csv('08-03-AirPassengers.csv', sep=',', na_values=\".\")\n",
    "print(df.shape)\n",
    "df.head(5)"
   ]
  },
  {
   "cell_type": "markdown",
   "metadata": {},
   "source": [
    "Vamos a modificar el nombre de las variables (\"#Passengers\" no nos permite acceder fácilmente a esa columna del dataframe)."
   ]
  },
  {
   "cell_type": "code",
   "execution_count": null,
   "metadata": {},
   "outputs": [],
   "source": [
    "df.columns = ['Mes', 'Pasajeros']"
   ]
  },
  {
   "cell_type": "code",
   "execution_count": null,
   "metadata": {},
   "outputs": [],
   "source": [
    "df.shape[0]"
   ]
  },
  {
   "cell_type": "markdown",
   "metadata": {},
   "source": [
    "Tenemos 144 datos, correspondientes a los números de pasajeros mensuales en los últimos 12 años. Visualicemos los datos para buscar patrones."
   ]
  },
  {
   "cell_type": "code",
   "execution_count": null,
   "metadata": {},
   "outputs": [],
   "source": [
    "plt.figure(figsize=(14,7))\n",
    "ax = plt.gca() # get current axis\n",
    "plt.plot(df.Mes, df.Pasajeros)\n",
    "plt.xlabel('Mes')\n",
    "plt.ylabel('Número de pasajeros')\n",
    "plt.title('Evolución del número de pasajeros en función del mes')\n",
    "plt.xticks(np.arange(0,144,12), rotation=90)\n",
    "plt.show()"
   ]
  },
  {
   "cell_type": "markdown",
   "metadata": {},
   "source": [
    "Nos salta a la vista la estacionalidad de los datos y la tendencia creciente."
   ]
  },
  {
   "cell_type": "markdown",
   "metadata": {},
   "source": [
    "## Preparación de los datos"
   ]
  },
  {
   "cell_type": "markdown",
   "metadata": {},
   "source": [
    "Tenemos unos datos representados por una serie de tiempo univariada.\n",
    "\n",
    "Al utilizar un modelo de redes neuronales con capas densas feed-forward para realizar pronósticos sobre series temporales univariadas, necesitamos configurar sus capas de entrada y de salida con respecto a lo que se espera del modelo. Hay diferentes aproximaciones posibles a considerar, con respecto al número de modelos que se van a desarrollar, a si se quiere un modelo con varios pronósticos al mismo tiempo o no, y a si se quiere tener en cuenta recursividamente o no las predicciones de modelos anteriores."
   ]
  },
  {
   "cell_type": "markdown",
   "metadata": {},
   "source": [
    "El número de neuronas de la capa de entrada debe establecerse con respecto a la ventana temporal de periodos contiguos que nos permitirán realizar el pronóstico. \n",
    "\n",
    "En el enfoque que vamos a adoptar, los inputs de la red neuronal van a representar los valores de la variable a pronósticar un cierto número de periodos atrás en el tiempo. \n",
    "Por ejemplo, con 4 neuronas, podemos tener en cuenta la información de 4 periodos continuos, uno por cada neurona.\n",
    "Por otra parte, vamos a pronosticar un solo periodo en el futuro, por lo que solo necesitaremos una neurona de salida."
   ]
  },
  {
   "cell_type": "markdown",
   "metadata": {},
   "source": [
    "Esto tiene como implicación que tenemos que transformar los datos univariados en particiones con tantos periodos contiguos como neuronas de entrada."
   ]
  },
  {
   "cell_type": "code",
   "execution_count": null,
   "metadata": {},
   "outputs": [],
   "source": [
    "df.iloc[0:12, 0]"
   ]
  },
  {
   "cell_type": "markdown",
   "metadata": {},
   "source": [
    "La siguiente función (tomada de https://machinelearningmastery.com/deep-learning-for-time-series-forecasting/) nos permite obtener particionamientos de periodos contiguos en la serie de datos."
   ]
  },
  {
   "cell_type": "code",
   "execution_count": null,
   "metadata": {},
   "outputs": [],
   "source": [
    "def split_sequence(sequence, n_steps):\n",
    "    X, y = list(), list() # se crean listas vacías donde agregaremos los valores de las variables predictivas (X)\n",
    "                          # y de la variable objetivo (y)\n",
    "        \n",
    "    for i in range(len(sequence)): # recorremos la serie de tiempo posición por posición\n",
    "        # Se obtiene el índice del final de la secuencia de datos con los valores de las variables predictivas (X)\n",
    "        end_ix = i + n_steps \n",
    "        # condición de salida: no alcanzamos a obtener los datos de \"X\" y \"y\"\n",
    "        if end_ix > len(sequence)-1: \n",
    "            break\n",
    "        # creamos los datos de la instancia del periodo actual, los periodos del \"X\" y el periodo a predicir \"y\"\n",
    "        # y los agregamos a las listas correspondientes\n",
    "        seq_x, seq_y = sequence[i:end_ix], sequence[end_ix]\n",
    "        X.append(seq_x)\n",
    "        y.append(seq_y)\n",
    "    return np.array(X), np.array(y) # retornamos una tupla con los datos de la instancia"
   ]
  },
  {
   "cell_type": "markdown",
   "metadata": {},
   "source": [
    "Por ejemplo las primeras 12 instancias de nuestro dataset, con los 6 datos precedentes para predecir el 7o serían (vamos a analizar las fechas para entender temporalmente lo que se obtiene):"
   ]
  },
  {
   "cell_type": "code",
   "execution_count": null,
   "metadata": {},
   "outputs": [],
   "source": [
    "X, y = split_sequence(df.iloc[0:12, 0], 6)\n",
    "for i in range(len(X)):\n",
    "    print(X[i], y[i])"
   ]
  },
  {
   "cell_type": "markdown",
   "metadata": {},
   "source": [
    "Creamos ahora nuestro dataset completo, sobre los datos del número de pasajeros. El numero de pasos a considerar lo vamos a establecer en 12, ya que se trata de datos anuales, y podemos encontrar evidencias visuales de ciclos de 12 datos.\n",
    "X va a contener los valores de la varible número de pasajeros de los 12 meses anteriores al valor contenido por y.\n",
    "Adicionalmente, necesitamos tener saber el mes correspondiente al y predicho, que lo dejaremos en mes."
   ]
  },
  {
   "cell_type": "code",
   "execution_count": null,
   "metadata": {},
   "outputs": [],
   "source": [
    "pasos = 12"
   ]
  },
  {
   "cell_type": "code",
   "execution_count": null,
   "metadata": {},
   "outputs": [],
   "source": [
    "X, y = split_sequence(df.iloc[:, 1], pasos)"
   ]
  },
  {
   "cell_type": "code",
   "execution_count": null,
   "metadata": {},
   "outputs": [],
   "source": [
    "meses_pronosticados = df.iloc[pasos:,0]\n",
    "meses_pronosticados"
   ]
  },
  {
   "cell_type": "markdown",
   "metadata": {},
   "source": [
    "## Modelamiento y evaluación"
   ]
  },
  {
   "cell_type": "markdown",
   "metadata": {},
   "source": [
    "Vamos a llevar a cabo diferentes evaluaciones del modelo."
   ]
  },
  {
   "cell_type": "markdown",
   "metadata": {},
   "source": [
    "### Estimación de múltiples pasos, ventana fija"
   ]
  },
  {
   "cell_type": "markdown",
   "metadata": {},
   "source": [
    "Ahora que ya tenemos los datos en la presentación correcta, vamos a separarlos en dos particiones, una para entrenamiento y otra para evaluación.\n",
    "\n",
    "Al tratarse de datos temporales, no tiene sentido particionar los datos de manera aleatoria, pues el orden de las secuencias de datos es importante. Vamos entonces a considerar una porción de los datos inicial, llamada *in-sample* para entrenar los modelos, seguida de la porción *out-of-sample*, que se utilizará para evaluar la capacidad predictiva."
   ]
  },
  {
   "cell_type": "markdown",
   "metadata": {},
   "source": [
    "Tenemos 132 instancias, vamos a dejar los últimos 12 meses para evaluación, entrenando sobre los primeros 10 años (120 meses)."
   ]
  },
  {
   "cell_type": "code",
   "execution_count": null,
   "metadata": {},
   "outputs": [],
   "source": [
    "periodos_train =120\n",
    "periodos_test = X.shape[0]-periodos_train"
   ]
  },
  {
   "cell_type": "code",
   "execution_count": null,
   "metadata": {},
   "outputs": [],
   "source": [
    "X_train = X[:periodos_train]\n",
    "X_test = X[periodos_train:]\n",
    "y_train = y[:periodos_train]\n",
    "y_test = y[periodos_train:]\n",
    "meses_train = meses_pronosticados[:periodos_train]\n",
    "meses_test = meses_pronosticados[periodos_train:]\n",
    "print(\"X_train: {}, y_train: {}\\nX_test: {}, y_test: {}\".format(X_train.shape, y_train.shape, X_test.shape, y_test.shape))"
   ]
  },
  {
   "cell_type": "code",
   "execution_count": null,
   "metadata": {},
   "outputs": [],
   "source": [
    "meses_train"
   ]
  },
  {
   "cell_type": "markdown",
   "metadata": {},
   "source": [
    "Entrenamos el modelo con una ventana de datos fija de 120 meses."
   ]
  },
  {
   "cell_type": "code",
   "execution_count": null,
   "metadata": {},
   "outputs": [],
   "source": [
    "np.random.seed(1234)\n",
    "mlp = MLPRegressor(hidden_layer_sizes=(10,10,10), max_iter=500)\n",
    "mlp.fit(X_train,y_train)\n"
   ]
  },
  {
   "cell_type": "code",
   "execution_count": null,
   "metadata": {},
   "outputs": [],
   "source": [
    "y_pred = mlp.predict(X_test)\n",
    "print(\"RMSE:\", sqrt(mean_squared_error(y_test, y_pred)), \", MAE:\", mean_absolute_error(y_test, y_pred), \", R2:\", r2_score(y_test, y_pred), \"\\n\")"
   ]
  },
  {
   "cell_type": "markdown",
   "metadata": {},
   "source": [
    "Visualicemos los datos"
   ]
  },
  {
   "cell_type": "code",
   "execution_count": null,
   "metadata": {},
   "outputs": [],
   "source": [
    "plt.figure(figsize=(14,7))\n",
    "ax = plt.gca() # get current axis\n",
    "plt.plot(meses_train, y_train, label=\"training\")\n",
    "plt.plot(meses_test, y_test, c=\"g\", label=\"test real\")\n",
    "plt.plot(meses_test, y_pred, c=\"r\", label=\"test pronóstico\")\n",
    "plt.xlabel('Mes')\n",
    "plt.ylabel('Número de pasajeros')\n",
    "plt.title('Evolución del número de pasajeros en función del mes')\n",
    "plt.legend()\n",
    "plt.xticks(np.arange(0,132,12), rotation=90)\n",
    "plt.show()"
   ]
  },
  {
   "cell_type": "markdown",
   "metadata": {},
   "source": [
    "### Estimación de un paso a la vez, ventana móvil"
   ]
  },
  {
   "cell_type": "markdown",
   "metadata": {},
   "source": [
    "Para este protocolo, vamos a estimar un modelo cada vez con los últimos 120 periodos previos al dato que se desea pronosticar."
   ]
  },
  {
   "cell_type": "code",
   "execution_count": null,
   "metadata": {},
   "outputs": [],
   "source": [
    "y_preds = np.zeros(periodos_test)\n",
    "for i in np.arange(0,periodos_test):\n",
    "    X_train = X[i:i+periodos_train]\n",
    "    y_train = y[i:i+periodos_train]\n",
    "    X_test = X[i+periodos_train]\n",
    "    y_test = y[i+periodos_train]\n",
    "    np.random.seed(1234)\n",
    "    mlp = MLPRegressor(hidden_layer_sizes=(10,10,10), max_iter=500)\n",
    "    mlp.fit(X_train,y_train)\n",
    "    y_pred = mlp.predict(X_test.reshape(1,pasos))\n",
    "    y_preds[i]=y_pred\n",
    "    print(\"ytest: \", y_test, \", y_pred: \", y_pred)\n"
   ]
  },
  {
   "cell_type": "code",
   "execution_count": null,
   "metadata": {},
   "outputs": [],
   "source": [
    "y_test = y[periodos_train:]"
   ]
  },
  {
   "cell_type": "code",
   "execution_count": null,
   "metadata": {},
   "outputs": [],
   "source": [
    "print(\"RMSE:\", sqrt(mean_squared_error(y_test, y_preds)), \", MAE:\", mean_absolute_error(y_test, y_preds), \n",
    "      \", R2:\", r2_score(y_test, y_preds), \"\\n\")\n",
    "\n",
    "    "
   ]
  },
  {
   "cell_type": "code",
   "execution_count": null,
   "metadata": {},
   "outputs": [],
   "source": [
    "plt.figure(figsize=(14,7))\n",
    "ax = plt.gca() # get current axis\n",
    "plt.plot(meses_train, y_train, label=\"training\")\n",
    "plt.plot(meses_test, y_test, c=\"g\", label=\"test real\")\n",
    "plt.plot(meses_test, y_preds, c=\"r\", label=\"test pronóstico\")\n",
    "plt.xlabel('Mes')\n",
    "plt.ylabel('Número de pasajeros')\n",
    "plt.title('Evolución del número de pasajeros en función del mes, ventana móvil')\n",
    "plt.legend()\n",
    "plt.xticks(np.arange(0,132,12), rotation=90)\n",
    "plt.show()"
   ]
  },
  {
   "cell_type": "markdown",
   "metadata": {},
   "source": [
    "### Estimación de un paso a la vez, ventana recursiva"
   ]
  },
  {
   "cell_type": "markdown",
   "metadata": {},
   "source": [
    "Para este protocolo, vamos a estimar un modelo cada vez con los últimos 120 periodos previos al dato que se desea pronosticar."
   ]
  },
  {
   "cell_type": "code",
   "execution_count": null,
   "metadata": {},
   "outputs": [],
   "source": [
    "y_preds = np.zeros(periodos_test)\n",
    "for i in np.arange(0,periodos_test):\n",
    "    X_train = X[:i+periodos_train]\n",
    "    y_train = y[:i+periodos_train]\n",
    "    X_test = X[i+periodos_train]\n",
    "    y_test = y[i+periodos_train]\n",
    "    np.random.seed(1234)\n",
    "    mlp = MLPRegressor(hidden_layer_sizes=(10,10,10), max_iter=500)\n",
    "    mlp.fit(X_train,y_train)\n",
    "    y_pred = mlp.predict(X_test.reshape(1,pasos))\n",
    "    y_preds[i]=y_pred\n",
    "    print(\"ytest: \", y_test, \", y_pred: \", y_pred)\n"
   ]
  },
  {
   "cell_type": "code",
   "execution_count": null,
   "metadata": {},
   "outputs": [],
   "source": [
    "y_test = y[periodos_train:]"
   ]
  },
  {
   "cell_type": "code",
   "execution_count": null,
   "metadata": {},
   "outputs": [],
   "source": [
    "print(\"RMSE:\", sqrt(mean_squared_error(y_test, y_preds)), \", MAE:\", mean_absolute_error(y_test, y_preds), \n",
    "      \", R2:\", r2_score(y_test, y_preds), \"\\n\")    "
   ]
  },
  {
   "cell_type": "code",
   "execution_count": null,
   "metadata": {},
   "outputs": [],
   "source": [
    "y_train = y[:periodos_train]\n",
    "y_test = y[periodos_train:]\n",
    "meses_train = meses_pronosticados[:periodos_train]\n",
    "meses_test = meses_pronosticados[periodos_train:]"
   ]
  },
  {
   "cell_type": "code",
   "execution_count": null,
   "metadata": {},
   "outputs": [],
   "source": [
    "plt.figure(figsize=(14,7))\n",
    "ax = plt.gca() # get current axis\n",
    "plt.plot(meses_train, y_train, label=\"training\")\n",
    "plt.plot(meses_test, y_test, c=\"g\", label=\"test real\")\n",
    "plt.plot(meses_test, y_preds, c=\"r\", label=\"test pronóstico\")\n",
    "plt.xlabel('Mes')\n",
    "plt.ylabel('Número de pasajeros')\n",
    "plt.title('Evolución del número de pasajeros en función del mes, ventana recursiva')\n",
    "plt.legend()\n",
    "plt.xticks(np.arange(0,132,12), rotation=90)\n",
    "plt.show()"
   ]
  },
  {
   "cell_type": "code",
   "execution_count": null,
   "metadata": {},
   "outputs": [],
   "source": []
  }
 ],
 "metadata": {
  "kernelspec": {
   "display_name": "Python 3",
   "language": "python",
   "name": "python3"
  },
  "language_info": {
   "codemirror_mode": {
    "name": "ipython",
    "version": 3
   },
   "file_extension": ".py",
   "mimetype": "text/x-python",
   "name": "python",
   "nbconvert_exporter": "python",
   "pygments_lexer": "ipython3",
   "version": "3.7.6"
  }
 },
 "nbformat": 4,
 "nbformat_minor": 2
}
